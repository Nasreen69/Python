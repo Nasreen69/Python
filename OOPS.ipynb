{
  "nbformat": 4,
  "nbformat_minor": 0,
  "metadata": {
    "colab": {
      "provenance": [],
      "authorship_tag": "ABX9TyPwewTDK7sOmLDOTz22XifC",
      "include_colab_link": true
    },
    "kernelspec": {
      "name": "python3",
      "display_name": "Python 3"
    },
    "language_info": {
      "name": "python"
    }
  },
  "cells": [
    {
      "cell_type": "markdown",
      "metadata": {
        "id": "view-in-github",
        "colab_type": "text"
      },
      "source": [
        "<a href=\"https://colab.research.google.com/github/Nasreen69/Python/blob/main/OOPS.ipynb\" target=\"_parent\"><img src=\"https://colab.research.google.com/assets/colab-badge.svg\" alt=\"Open In Colab\"/></a>"
      ]
    },
    {
      "cell_type": "markdown",
      "source": [
        "Bismilla Hirrahma Nirraheem"
      ],
      "metadata": {
        "id": "GnZpLNTriNuN"
      }
    },
    {
      "cell_type": "markdown",
      "source": [
        "# ***OOPS***\n",
        "\n"
      ],
      "metadata": {
        "id": "xPSpIJ3LvWat"
      }
    },
    {
      "cell_type": "markdown",
      "source": [
        "## ***Class***\n",
        "\n",
        "*object, create class obj(metaclass type). It has attributes(state,variables) and behaviour(methods almost same as functions)*\n",
        "\n",
        "*define class variables to store data & access in each instance obj*\n",
        "\n",
        "*define obj of class*\n",
        "\n",
        "*Syntax: –*\n",
        "\n",
        "*object_name = class_name()*\n",
        "\n",
        "*object_name = class_name(arg)*\n",
        "\n",
        "*Decorators, generators*\n"
      ],
      "metadata": {
        "id": "P6k3vICMvXnR"
      }
    },
    {
      "cell_type": "code",
      "source": [
        "class - collection of objects\n",
        "ex: class ClassName:         #class -> keyword\n",
        "    statement-1\n",
        "        |\n",
        "    statement-n\n",
        "\n",
        "\n",
        "'Empty Class :-'\n",
        "\n",
        "class Computer:\n",
        "    pass\n",
        "\n",
        "class Student(object):\n",
        "  pass\n",
        "print(Student)"
      ],
      "metadata": {
        "id": "rKvYmNUGt6vt"
      },
      "execution_count": null,
      "outputs": []
    },
    {
      "cell_type": "markdown",
      "source": [
        "*Object is a contiguous block of memory that stores the actual information*\n",
        "\n",
        "*Instance is a reference to an object. It is a block of memory, which points to the staring address of where the object is stored* \n",
        "\n",
        "*Parameters are used to pass information from one object (or method) to another.*"
      ],
      "metadata": {
        "id": "1cFl2J7Fsu5v"
      }
    },
    {
      "cell_type": "code",
      "source": [
        "object - an entity that has state, behavior & identity associated with it.\n",
        "\n",
        "class Computer:\n",
        "    # __init__ is known as the constructor\n",
        "    #Instance attribute\n",
        "      def __init__(self, name):  #self, name is the parameter(a variable defined by a method that receives a value when method is called)\n",
        "          self.name = name\n",
        "      \n",
        "      def keyboard(self):\n",
        "        print(\"computer part {}\".format(self.name))\n",
        "\n",
        "#Object Instantiation\n",
        "var1 = Computer(\"DELL\")  # DELL is the argument(is a value i.e passed to a method when it is invoked)\n",
        "\n",
        "#1.positional arguments 2. keyword arguments\n",
        "# python follows 'call by assignment' method (not call by value or call by reference)\n",
        "\n",
        "# Accessing class methods\n",
        "var1.keyboard()"
      ],
      "metadata": {
        "colab": {
          "base_uri": "https://localhost:8080/"
        },
        "id": "gCw9BjlnuW7x",
        "outputId": "decc4fd7-45f0-434c-ba94-a1e548864b5e"
      },
      "execution_count": 3,
      "outputs": [
        {
          "output_type": "stream",
          "name": "stdout",
          "text": [
            "computer part DELL\n"
          ]
        }
      ]
    },
    {
      "cell_type": "code",
      "source": [
        "class Student:\n",
        "  def __init__(self): #init/dunder method is the constructor used to initialize instance variables of class\n",
        "    self.name = 'Martin'\n",
        "    print('You are inside the init method')\n",
        " \n",
        "  def disp(self):\n",
        "    print('Student name:',self.name)\n",
        "\n",
        "stud = Student()  #1. instance variable 2. class/static variable\n",
        "print('type of class:',type(stud),' id of object:',id(stud))\n",
        "stud.disp()"
      ],
      "metadata": {
        "colab": {
          "base_uri": "https://localhost:8080/"
        },
        "id": "h0v1l98WwSmj",
        "outputId": "89712fd5-803c-43ca-fbc7-ea4c11147151"
      },
      "execution_count": 1,
      "outputs": [
        {
          "output_type": "stream",
          "name": "stdout",
          "text": [
            "You are inside the init method\n",
            "type of class: <class '__main__.Student'>  id of object: 140145118163632\n",
            "Student name: Martin\n"
          ]
        }
      ]
    },
    {
      "cell_type": "markdown",
      "source": [
        "Inheritance - is the capability of one class to derive or inherit the properties from another class.\n",
        "\n",
        "types - single, multilevel, Hierarchical, multiple"
      ],
      "metadata": {
        "id": "dwoEfCd5_jgC"
      }
    },
    {
      "cell_type": "code",
      "source": [
        "#Parent class\n",
        "class Computer:\n",
        "\n",
        "  def __init__(self, name, cost):\n",
        "    self.name = name\n",
        "    self.cost = cost\n",
        "\n",
        "  def display(self):\n",
        "    print(self.name)\n",
        "    print(self.cost)\n",
        "\n",
        "  def details(self):\n",
        "      print(\"Computer name is {}\".format(self.name))\n",
        "      print(\"cost of the computer is : {}\".format(self.cost))\n",
        "\n",
        "#child class\n",
        "class Laptop(device):\n",
        "    def __init__(self, name, cost, keyboard, Mouse):\n",
        "        self.keyboard = keyboard\n",
        "        self.Mouse = Mouse\n",
        "      \n",
        "     # invoking the __init__ of the parent class\n",
        "        device.__init__(self, name, cost) \n",
        "     \n",
        "    def details(self):\n",
        "        print(\"Computer name is {}\".format(self.name))\n",
        "        print(\"cost of the computer is: {}\".format(self.cost))\n",
        "        print(\"keyboard: {}\".format(self.keyboard))\n",
        "\n",
        "a = Laptop('DELL', 46392, \"Lightweight\", \"touchpad\")\n",
        "\n",
        "a.display()\n",
        "a.details()"
      ],
      "metadata": {
        "id": "CNyS-E-7-K1U"
      },
      "execution_count": 5,
      "outputs": []
    },
    {
      "cell_type": "markdown",
      "source": [
        "**PolyMorphism** - simply having many/multiple forms. find same operator/function taking multiple forms.\n",
        "\n",
        "*ex: using single func determine birds can fly or not creating diff Class with same methods/name*\n",
        "\n",
        "\n",
        "*If there is a different behavior according to a variable or method situation*\n",
        "\n",
        "*Method Overriding : used when we have to change the existing behavior of the program(parent class)*\n",
        "\n",
        "*Method overloading : a methodis written in such a way that it can perform more than one task*\n",
        "\n",
        "*Strong Typing : When an object is passed then it is checked whether the method is present or not in that object. Using Python’s hasattr() function*"
      ],
      "metadata": {
        "id": "spWpMiE2_EWJ"
      }
    },
    {
      "cell_type": "code",
      "source": [
        "class Bird:\n",
        "\n",
        "\tdef intro(self):\n",
        "\t\tprint(\"There are many types of birds.\")\n",
        "\n",
        "\tdef flight(self):\n",
        "\t\tprint(\"Most of the birds can fly but some cannot.\")\n",
        "\n",
        "class sparrow(Bird):\n",
        "\n",
        "\tdef flight(self):\n",
        "\t\tprint(\"Sparrows can fly.\")\n",
        "\n",
        "class ostrich(Bird):\n",
        "\n",
        "\tdef flight(self):\n",
        "\t\tprint(\"Ostriches cannot fly.\")\n",
        "\n",
        "obj_bird = Bird()\n",
        "obj_spr = sparrow()\n",
        "obj_ost = ostrich()\n",
        "\n",
        "obj_bird.intro()\n",
        "obj_bird.flight()\n",
        "\n",
        "obj_spr.intro()\n",
        "obj_spr.flight()\n",
        "\n",
        "obj_ost.intro()\n",
        "obj_ost.flight()"
      ],
      "metadata": {
        "colab": {
          "base_uri": "https://localhost:8080/"
        },
        "id": "lhB38Y0G-_ZL",
        "outputId": "a5141811-7404-44c1-ef78-717b0616c4ef"
      },
      "execution_count": 4,
      "outputs": [
        {
          "output_type": "stream",
          "name": "stdout",
          "text": [
            "There are many types of birds.\n",
            "Most of the birds can fly but some cannot.\n",
            "There are many types of birds.\n",
            "Sparrows can fly.\n",
            "There are many types of birds.\n",
            "Ostriches cannot fly.\n"
          ]
        }
      ]
    },
    {
      "cell_type": "code",
      "source": [
        "Encapsulation - This puts restrictions on accessing variables and methods directly and can prevent the accidental \n",
        "modification of data. objects variable can only be changed by object method"
      ],
      "metadata": {
        "id": "hd5gE1qa_xlQ"
      },
      "execution_count": null,
      "outputs": []
    },
    {
      "cell_type": "code",
      "source": [
        "abstarction - Hiding sensitive data/unnecessary code details from user"
      ],
      "metadata": {
        "id": "jXhMPapn_1vi"
      },
      "execution_count": null,
      "outputs": []
    },
    {
      "cell_type": "code",
      "source": [
        "class Student:\n",
        "  standard = '5th'\n",
        "#The static method is used when the processing is related to the class but the class and its instances are not required for this processing.\n",
        "  @staticmethod  #decorator is used when we pass external I/P & perform action on it\n",
        "  def disp(name):\n",
        "    print('Student Name:', name, 'Standard:',Student.standard)\n",
        " \n",
        "stud = Student()\n",
        "stud.disp('Martin')"
      ],
      "metadata": {
        "id": "2UEQBos8DVUk"
      },
      "execution_count": null,
      "outputs": []
    }
  ]
}