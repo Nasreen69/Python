{
  "nbformat": 4,
  "nbformat_minor": 0,
  "metadata": {
    "colab": {
      "provenance": [],
      "collapsed_sections": [
        "LLPxy5kPJPDy",
        "7wMOygN798Kq",
        "_oytRufgL_zE",
        "CV_UqJhvPKj6",
        "uIAYWTE4VXTp",
        "aOwBMn6V5Sxn",
        "rbikOhembeRq",
        "rvQ9X275fLPy",
        "_zZIvPZmfR72",
        "774dvMMAfVXX",
        "rnXcdgDWfYSb",
        "6xYHbl1vyJNd"
      ],
      "authorship_tag": "ABX9TyNELOIn7BKwC8KX+g0+nPOd",
      "include_colab_link": true
    },
    "kernelspec": {
      "name": "python3",
      "display_name": "Python 3"
    },
    "language_info": {
      "name": "python"
    }
  },
  "cells": [
    {
      "cell_type": "markdown",
      "metadata": {
        "id": "view-in-github",
        "colab_type": "text"
      },
      "source": [
        "<a href=\"https://colab.research.google.com/github/Nasreen69/Python/blob/main/ML_Stats.ipynb\" target=\"_parent\"><img src=\"https://colab.research.google.com/assets/colab-badge.svg\" alt=\"Open In Colab\"/></a>"
      ]
    },
    {
      "cell_type": "markdown",
      "source": [
        "*Bismilla Hirrahma Nirraheem*"
      ],
      "metadata": {
        "id": "lqnQmuE7U9PH"
      }
    },
    {
      "cell_type": "markdown",
      "source": [
        "# ***MAD***\n",
        "\n",
        "*Stands for Mean Absolute Deviation*\n",
        "\n",
        "*collected data set is the average of absolute deviations from a centre point of the data set*\n",
        "\n",
        "*4 types*\n",
        "\n",
        "*central tendency -> mean, median, mode,midrange and standard deviation*\n",
        "\n",
        "https://www.toppr.com/guides/maths/statistics/"
      ],
      "metadata": {
        "id": "n1ix5ECZJHj-"
      }
    },
    {
      "cell_type": "markdown",
      "source": [
        "# **Mean**  \n",
        "\n",
        "*is the average of the given numbers and is calculated by*\n",
        "\n",
        "*myu = (Sum of all the observations/Total number of observations)*\n",
        "\n",
        "*myu = (n1+n2+n3+n4+n5+.....n)/n*\n",
        "\n",
        "*https://byjus.com/maths/mean/*"
      ],
      "metadata": {
        "id": "LLPxy5kPJPDy"
      }
    },
    {
      "cell_type": "code",
      "execution_count": null,
      "metadata": {
        "id": "Htx0uRk2U7xV",
        "colab": {
          "base_uri": "https://localhost:8080/"
        },
        "outputId": "6aeef0e3-2fe6-4a88-aa5a-c2edc1d1b41a"
      },
      "outputs": [
        {
          "output_type": "stream",
          "name": "stdout",
          "text": [
            "Enter number 1: 1\n",
            "Enter number 2: 2\n",
            "Enter number 3: 3\n",
            "Enter number 4: 4\n",
            "Enter number 5: 5\n",
            "The mean of [1, 2, 3, 4, 5] is 3.0\n"
          ]
        }
      ],
      "source": [
        "def mean(numbers):\n",
        "  \n",
        "  for i in numbers:\n",
        "    mean = sum(numbers)/len(numbers)\n",
        "  return mean\n",
        "\n",
        "#numbers = [1, 2, 3, 4, 5]  \n",
        "numbers = []\n",
        "for i in range(5):\n",
        "    num = int(input(f\"Enter number {i+1}: \"))\n",
        "    numbers.append(num)\n",
        "\n",
        "result = mean(numbers)\n",
        "print(f\"The mean of {numbers} is {result}\")\n"
      ]
    },
    {
      "cell_type": "code",
      "source": [
        "def avg(test_list):    # creating function\n",
        "  sum = 0\n",
        "  for i in test_list:\n",
        "     sum = sum+i\n",
        "  avg = sum/len(test_list)\n",
        "  return avg\n",
        "\n",
        "res1 = list(map(int,input().split()))  # calling/initializing function\n",
        "\n",
        "#res2 = avg(res1)\n",
        "\n",
        "print(round(avg(res1),2))\n",
        "#print(round(res2,2))"
      ],
      "metadata": {
        "id": "5GY4k_endvU5"
      },
      "execution_count": null,
      "outputs": []
    },
    {
      "cell_type": "code",
      "source": [
        "import statistics\n",
        "\n",
        "# create a list of numbers\n",
        "numbers = [2, 3, 5, 6, 7, 7, 8, 8, 8, 9]\n",
        "\n",
        "# calculate the mean\n",
        "mean = statistics.mean(numbers)\n",
        "print(\"Mean:\", mean)"
      ],
      "metadata": {
        "id": "zdtZxJN4bHxi"
      },
      "execution_count": null,
      "outputs": []
    },
    {
      "cell_type": "markdown",
      "source": [
        "*array (in the case of NumPy) or a Series/DataFrame (in the case of Pandas)*"
      ],
      "metadata": {
        "id": "30ZDFHYg53El"
      }
    },
    {
      "cell_type": "code",
      "source": [
        "import numpy as np\n",
        "\n",
        "# Create a NumPy array\n",
        "arr = np.array([1, 2, 3, 4, 5])\n",
        "\n",
        "# Calculate the mean\n",
        "mean = np.mean(arr)\n",
        "\n",
        "print(\"Mean:\", mean)"
      ],
      "metadata": {
        "colab": {
          "base_uri": "https://localhost:8080/"
        },
        "id": "672z4TJI462H",
        "outputId": "bd625335-e67a-4daf-e681-01a3ceae8b0b"
      },
      "execution_count": null,
      "outputs": [
        {
          "output_type": "stream",
          "name": "stdout",
          "text": [
            "Mean: 3.0\n"
          ]
        }
      ]
    },
    {
      "cell_type": "code",
      "source": [
        "import pandas as pd\n",
        "\n",
        "# Create a Pandas Series\n",
        "s = pd.Series([1, 2, 3, 4, 5])\n",
        "\n",
        "# Calculate the mean\n",
        "mean = s.mean()\n",
        "\n",
        "print(\"Mean:\", mean)"
      ],
      "metadata": {
        "colab": {
          "base_uri": "https://localhost:8080/"
        },
        "id": "anW_vEqH5IFo",
        "outputId": "5937cc0e-96d7-4a6d-9267-d981655124f8"
      },
      "execution_count": null,
      "outputs": [
        {
          "output_type": "stream",
          "name": "stdout",
          "text": [
            "Mean: 3.0\n"
          ]
        }
      ]
    },
    {
      "cell_type": "code",
      "source": [
        "SELECT SUM(column_name) / COUNT(column_name) FROM table_name;\n",
        "\n",
        "SELECT AVG(column_name) AS mean_value FROM table_name;"
      ],
      "metadata": {
        "id": "yNtjLRzSB8Qd"
      },
      "execution_count": null,
      "outputs": []
    },
    {
      "cell_type": "code",
      "source": [
        "import sqlite3\n",
        "import mysql.connector\n",
        "\n",
        "# create a connection to the database using sqlite3\n",
        "conn = sqlite3.connect('example.db')\n",
        "# create a connection to the database using sqlite3\n",
        "conn = mysql.connector.connect(\n",
        "  host=\"localhost\",\n",
        "  user=\"yourusername\",\n",
        "  password=\"yourpassword\",\n",
        "  database=\"yourdatabase\"\n",
        ")\n",
        "\n",
        "# create a cursor object to execute SQL queries\n",
        "c = conn.cursor()\n",
        "\n",
        "# execute a query to find the mean of a column\n",
        "c.execute('SELECT AVG(column_name) FROM table_name;')\n",
        "\n",
        "# fetch the result of the query\n",
        "mean_value = c.fetchone()[0]\n",
        "\n",
        "# close the cursor and connection to the database\n",
        "c.close()\n",
        "conn.close()\n",
        "\n",
        "# print the mean value\n",
        "print('The mean value is:', mean_value)\n"
      ],
      "metadata": {
        "id": "JPMzLT8eE6W6"
      },
      "execution_count": null,
      "outputs": []
    },
    {
      "cell_type": "markdown",
      "source": [
        "# ***Median***\n",
        "\n",
        "*is the middle value of the given list of data when arranged in an order.* \n",
        "\n",
        "*The arrangement of data or observations can be made either in ascending order or descending order.* \n",
        "\n",
        "* *So if n is an odd number, M = (n+1/(2))th term*\n",
        "\n",
        "* *And if n is a even number, M = [ (n/2) + 1 ) th term + n/(2) th term ] ÷ 2*\n",
        "\n",
        "\n",
        "***https://byjus.com/maths/median/***"
      ],
      "metadata": {
        "id": "7wMOygN798Kq"
      }
    },
    {
      "cell_type": "code",
      "source": [
        "def median(my_list):\n",
        "    n = len(my_list)\n",
        "    sorted_list = sorted(my_list)\n",
        "\n",
        "    # If the list has an odd number of elements\n",
        "    if n % 2 != 0:\n",
        "        median = sorted_list[ n // 2]\n",
        "\n",
        "    # If the list has an even number of elements\n",
        "    else:\n",
        "        median = (sorted_list[(n // 2) - 1] + sorted_list[n // 2]) / 2\n",
        "\n",
        "    return median\n",
        "\n",
        "# Create a list of numbers\n",
        "my_list = [1, 3, 5, 7, 9]\n",
        "\n",
        "# Call the function to calculate the median\n",
        "median = median(my_list)\n",
        "\n",
        "print(\"Median:\", median)\n"
      ],
      "metadata": {
        "colab": {
          "base_uri": "https://localhost:8080/"
        },
        "id": "d59AzTvK_nxH",
        "outputId": "eda250fb-7062-4e01-c576-2ad2c1762c86"
      },
      "execution_count": null,
      "outputs": [
        {
          "output_type": "stream",
          "name": "stdout",
          "text": [
            "Median: 5\n"
          ]
        }
      ]
    },
    {
      "cell_type": "code",
      "source": [
        "import statistics\n",
        "\n",
        "# create a list of numbers\n",
        "#numbers = [2, 3, 5, 6, 7, 7, 8, 8, 8, 9]\n",
        "numbers = [1, 3, 5, 7, 9]\n",
        "\n",
        "# calculate the median\n",
        "median = statistics.median(numbers)\n",
        "print(\"Median:\", median)"
      ],
      "metadata": {
        "id": "qIainUZQbixz",
        "colab": {
          "base_uri": "https://localhost:8080/"
        },
        "outputId": "ef4569c2-b9fc-4480-efa6-7ca8fb041ea4"
      },
      "execution_count": null,
      "outputs": [
        {
          "output_type": "stream",
          "name": "stdout",
          "text": [
            "Median: 5\n"
          ]
        }
      ]
    },
    {
      "cell_type": "code",
      "source": [
        "import numpy as np\n",
        "\n",
        "# Create an array of numbers\n",
        "my_arr = np.array([1, 3, 5, 7, 9])\n",
        "\n",
        "# Calculate the median\n",
        "median = np.median(my_arr)\n",
        "\n",
        "print(\"Median:\", median)"
      ],
      "metadata": {
        "colab": {
          "base_uri": "https://localhost:8080/"
        },
        "id": "rPgjKbraDDrC",
        "outputId": "2e9c2c43-e79e-4ca8-abaf-93cf54fb17ea"
      },
      "execution_count": null,
      "outputs": [
        {
          "output_type": "stream",
          "name": "stdout",
          "text": [
            "Median: 5.0\n"
          ]
        }
      ]
    },
    {
      "cell_type": "code",
      "source": [
        "import pandas as pd\n",
        "\n",
        "# Create a DataFrame of numbers\n",
        "my_df = pd.DataFrame({'numbers': [1, 3, 5, 7, 9]})\n",
        "\n",
        "# Calculate the median\n",
        "median = my_df['numbers'].median()\n",
        "\n",
        "print(\"Median:\", median)"
      ],
      "metadata": {
        "colab": {
          "base_uri": "https://localhost:8080/"
        },
        "id": "hYoTiMv4FuOl",
        "outputId": "436d1af9-f375-4d98-8ff3-358b6f96bbba"
      },
      "execution_count": null,
      "outputs": [
        {
          "output_type": "stream",
          "name": "stdout",
          "text": [
            "Median: 5.0\n"
          ]
        }
      ]
    },
    {
      "cell_type": "code",
      "source": [
        "SELECT AVG(column_name) AS median\n",
        "FROM (\n",
        "  SELECT column_name\n",
        "  FROM table_name\n",
        "  ORDER BY column_name\n",
        "  LIMIT 2 - (SELECT COUNT(*) FROM table_name WHERE column_name IS NULL) -- handle null values\n",
        "  OFFSET (SELECT COUNT(*) FROM table_name WHERE column_name IS NOT NULL) % 2\n",
        ") AS subset;"
      ],
      "metadata": {
        "id": "_gvYDsH8aNvk"
      },
      "execution_count": null,
      "outputs": []
    },
    {
      "cell_type": "code",
      "source": [
        "import sqlite3\n",
        "\n",
        "# create a list of numbers\n",
        "#numbers = [1, 2, 3, 4, 5]\n",
        "numbers = [1, 3, 5, 7, 9]\n",
        "\n",
        "# create a SQLite database in memory and connect to it\n",
        "conn = sqlite3.connect(':memory:')\n",
        "\n",
        "# create a table and insert the numbers into it\n",
        "conn.execute('CREATE TABLE numbers (value REAL)')\n",
        "for number in numbers:\n",
        "    conn.execute('INSERT INTO numbers (value) VALUES (?)', (number,))\n",
        "\n",
        "# calculate the median using the SQL query\n",
        "result = conn.execute(\"\"\"\n",
        "    SELECT AVG(value) AS median\n",
        "    FROM (\n",
        "      SELECT value\n",
        "      FROM numbers\n",
        "      ORDER BY value\n",
        "      LIMIT 2 - (SELECT COUNT(*) FROM numbers WHERE value IS NULL)\n",
        "      OFFSET (SELECT COUNT(*) FROM numbers WHERE value IS NOT NULL) % 2\n",
        "    ) AS subset;\n",
        "\"\"\").fetchone()[0]\n",
        "\n",
        "# print the median\n",
        "print(\"The median is:\", result)\n",
        "\n",
        "# close the database connection\n",
        "conn.close()"
      ],
      "metadata": {
        "colab": {
          "base_uri": "https://localhost:8080/"
        },
        "id": "s2l62T60azsb",
        "outputId": "64c324de-f62d-4b23-9bb9-3043dea70bda"
      },
      "execution_count": null,
      "outputs": [
        {
          "output_type": "stream",
          "name": "stdout",
          "text": [
            "The median is: 4.0\n"
          ]
        }
      ]
    },
    {
      "cell_type": "code",
      "source": [
        "import mysql.connector\n",
        "\n",
        "# create a list of numbers\n",
        "numbers = [1, 2, 3, 4, 5]\n",
        "\n",
        "# create a MySQL database connection\n",
        "cnx = mysql.connector.connect(\n",
        "  host=\"localhost\",\n",
        "  user=\"yourusername\",\n",
        "  password=\"yourpassword\",\n",
        "  database=\"yourdatabase\"\n",
        ")\n",
        "\n",
        "# create a cursor object to execute SQL queries\n",
        "cursor = cnx.cursor()\n",
        "\n",
        "# create a table and insert the numbers into it\n",
        "create_table_query = \"CREATE TABLE numbers (value FLOAT)\"\n",
        "insert_query = \"INSERT INTO numbers (value) VALUES (%s)\"\n",
        "cursor.execute(create_table_query)\n",
        "for number in numbers:\n",
        "    cursor.execute(insert_query, (number,))\n",
        "\n",
        "# calculate the median using the SQL query\n",
        "median_query = \"\"\"\n",
        "    SELECT AVG(value) AS median\n",
        "    FROM (\n",
        "      SELECT value\n",
        "      FROM numbers\n",
        "      ORDER BY value\n",
        "      LIMIT 2 - (SELECT COUNT(*) FROM numbers WHERE value IS NULL)\n",
        "      OFFSET (SELECT COUNT(*) FROM numbers WHERE value IS NOT NULL) % 2\n",
        "    ) AS subset;\n",
        "\"\"\"\n",
        "cursor.execute(median_query)\n",
        "result = cursor.fetchone()[0]\n",
        "\n",
        "# print the median\n",
        "print(\"The median is:\", result)\n",
        "\n",
        "# close the cursor and database connection\n",
        "cursor.close()\n",
        "cnx.close()"
      ],
      "metadata": {
        "id": "-ulr4H6zb0sV"
      },
      "execution_count": null,
      "outputs": []
    },
    {
      "cell_type": "markdown",
      "source": [
        "# ***Mode***   \n",
        "\n",
        "*is the value that is repeatedly occurring in a given set*\n",
        "\n",
        "*https://byjus.com/maths/mode/*"
      ],
      "metadata": {
        "id": "_oytRufgL_zE"
      }
    },
    {
      "cell_type": "code",
      "source": [
        "def mode(numbers):\n",
        "    \"\"\"\n",
        "    This function takes a list of numbers as input and returns the mode.\n",
        "    \"\"\"\n",
        "    # Create a dictionary to store the frequency of each number\n",
        "    frequency = {}\n",
        "    for num in numbers:\n",
        "        if num in frequency:\n",
        "            frequency[num] += 1\n",
        "        else:\n",
        "            frequency[num] = 1\n",
        "           \n",
        "    \n",
        "    # Find the number(s) with the highest frequency\n",
        "    max_freq = max(frequency.values())\n",
        "    modes = []\n",
        "    for num, freq in frequency.items():   #enumerate function\n",
        "        if freq == max_freq:\n",
        "            modes.append(num)\n",
        "    \n",
        "    # If there is only one mode, return it\n",
        "    if len(modes) == 1:\n",
        "        return modes[0]\n",
        "    else:\n",
        "        return modes \n",
        "\n",
        "# Example usage\n",
        "numbers = [3, 6, 2, 4, 3, 7, 3, 9]\n",
        "result = mode(numbers)\n",
        "print(result)\n"
      ],
      "metadata": {
        "colab": {
          "base_uri": "https://localhost:8080/"
        },
        "id": "MPiwB68YOmwT",
        "outputId": "6ff0e881-06ef-481a-ea15-245e5f93b2ee"
      },
      "execution_count": null,
      "outputs": [
        {
          "output_type": "stream",
          "name": "stdout",
          "text": [
            "3\n"
          ]
        }
      ]
    },
    {
      "cell_type": "code",
      "source": [
        "data = [1, 2, 2, 3, 4, 5]\n",
        "\n",
        "# Mode\n",
        "mode = max(set(data), key=data.count)\n",
        "print(\"Mode:\", mode)"
      ],
      "metadata": {
        "colab": {
          "base_uri": "https://localhost:8080/"
        },
        "id": "McwbnGpJ3qbk",
        "outputId": "b7ea7914-3517-4d55-9292-f489c2ddd896"
      },
      "execution_count": null,
      "outputs": [
        {
          "output_type": "stream",
          "name": "stdout",
          "text": [
            "Mode: 2\n"
          ]
        }
      ]
    },
    {
      "cell_type": "code",
      "source": [
        "import statistics\n",
        "\n",
        "# create a list of numbers\n",
        "#numbers = [2, 3, 5, 6, 7, 7, 8, 8, 8, 9]\n",
        "Numbers = [3, 6, 2, 4, 3, 7, 3, 9]\n",
        "\n",
        "# calculate the mode\n",
        "mode = statistics.mode(numbers)\n",
        "print(\"Mode:\", mode)"
      ],
      "metadata": {
        "id": "1-VGVZGwbphp",
        "colab": {
          "base_uri": "https://localhost:8080/"
        },
        "outputId": "75d33ef5-3301-4e3e-dab7-6758d1509bad"
      },
      "execution_count": null,
      "outputs": [
        {
          "output_type": "stream",
          "name": "stdout",
          "text": [
            "Mode: 1\n"
          ]
        }
      ]
    },
    {
      "cell_type": "code",
      "source": [
        "import numpy as np\n",
        "from scipy import stats\n",
        "\n",
        "data = np.array([1, 2, 2, 3, 3, 3, 4, 4, 5])\n",
        "mode = stats.mode(data, keepdims=True)\n",
        "\n",
        "print(mode)\n"
      ],
      "metadata": {
        "colab": {
          "base_uri": "https://localhost:8080/"
        },
        "id": "iRMcnUcgXDEX",
        "outputId": "e852fdb4-5f9e-40fa-866c-bec67a9df175"
      },
      "execution_count": null,
      "outputs": [
        {
          "output_type": "stream",
          "name": "stdout",
          "text": [
            "ModeResult(mode=array([3]), count=array([3]))\n"
          ]
        }
      ]
    },
    {
      "cell_type": "code",
      "source": [
        "import pandas as pd\n",
        "\n",
        "data = pd.Series([1, 2, 2, 3, 3, 3, 4, 4, 5, 6,6])\n",
        "mode = data.mode()\n",
        "\n",
        "print(mode)"
      ],
      "metadata": {
        "colab": {
          "base_uri": "https://localhost:8080/"
        },
        "id": "74G_JdfPWYVW",
        "outputId": "2abe5f53-f46b-453b-b500-41e88d2ace1d"
      },
      "execution_count": null,
      "outputs": [
        {
          "output_type": "stream",
          "name": "stdout",
          "text": [
            "0    3\n",
            "dtype: int64\n"
          ]
        }
      ]
    },
    {
      "cell_type": "code",
      "source": [
        "import sqlite3\n",
        "\n",
        "# create a list of numbers\n",
        "numbers = [1, 2, 3, 3, 4, 4, 4, 5]\n",
        "\n",
        "# create a SQLite3 database connection\n",
        "conn = sqlite3.connect('example.db')\n",
        "\n",
        "# create a cursor object to execute SQL queries\n",
        "cursor = conn.cursor()\n",
        "\n",
        "# create a table and insert the numbers into it\n",
        "create_table_query = \"CREATE TABLE numbers (value INT)\"\n",
        "insert_query = \"INSERT INTO numbers (value) VALUES (?)\"\n",
        "cursor.execute(create_table_query)\n",
        "for number in numbers:\n",
        "    cursor.execute(insert_query, (number,))\n",
        "\n",
        "# calculate the mode using the SQL query\n",
        "mode_query = \"\"\"\n",
        "    SELECT value, COUNT(*) AS count\n",
        "    FROM numbers\n",
        "    GROUP BY value\n",
        "    ORDER BY count DESC\n",
        "    LIMIT 1;\n",
        "\"\"\"\n",
        "cursor.execute(mode_query)\n",
        "result = cursor.fetchone()[0]\n",
        "\n",
        "# print the mode\n",
        "print(\"The mode is:\", result)\n",
        "\n",
        "# close the cursor and database connection\n",
        "cursor.close()\n",
        "conn.close()\n"
      ],
      "metadata": {
        "id": "ohOQaZP-cqQV"
      },
      "execution_count": null,
      "outputs": []
    },
    {
      "cell_type": "code",
      "source": [
        "import mysql.connector\n",
        "\n",
        "# create a list of numbers\n",
        "numbers = [1, 2, 3, 3, 4, 4, 4, 5]\n",
        "\n",
        "# create a MySQL database connection\n",
        "cnx = mysql.connector.connect(\n",
        "  host=\"localhost\",\n",
        "  user=\"yourusername\",\n",
        "  password=\"yourpassword\",\n",
        "  database=\"yourdatabase\"\n",
        ")\n",
        "\n",
        "# create a cursor object to execute SQL queries\n",
        "cursor = cnx.cursor()\n",
        "\n",
        "# create a table and insert the numbers into it\n",
        "create_table_query = \"CREATE TABLE numbers (value INT)\"\n",
        "insert_query = \"INSERT INTO numbers (value) VALUES (%s)\"\n",
        "cursor.execute(create_table_query)\n",
        "for number in numbers:\n",
        "    cursor.execute(insert_query, (number,))\n",
        "\n",
        "# calculate the mode using the SQL query\n",
        "mode_query = \"\"\"\n",
        "    SELECT value, COUNT(*) AS count\n",
        "    FROM numbers\n",
        "    GROUP BY value\n",
        "    ORDER BY count DESC\n",
        "    LIMIT 1;\n",
        "\"\"\"\n",
        "cursor.execute(mode_query)\n",
        "result = cursor.fetchone()[0]\n",
        "\n",
        "# print the mode\n",
        "print(\"The mode is:\", result)\n",
        "\n",
        "# close the cursor and database connection\n",
        "cursor.close()\n",
        "cnx.close()"
      ],
      "metadata": {
        "id": "NmJbuDxpe9b6"
      },
      "execution_count": null,
      "outputs": []
    },
    {
      "cell_type": "markdown",
      "source": [
        "# ***MSE & RMSE***\n",
        "\n",
        "*Mean Squared Error is the average of squares of the errors*\n",
        "*needs a target of prediction or estimation along with a predictor or estimator of given data*\n",
        "\n",
        "*Root Mean Squared Error is defined as the square root of differences between predicted values and observed values*\n",
        "\n",
        "* MSE  = (1/n) * Σ (actual – forecast) 2 \n",
        "\n",
        "* RMSE = √ [ Σ (Pi – Oi)2 / n ] \n",
        "\n",
        "***https://byjus.com/maths/mean-squared-error/***\n",
        "\n"
      ],
      "metadata": {
        "id": "Pphc9j6t8udP"
      }
    },
    {
      "cell_type": "code",
      "source": [
        "def mse(y_true, y_pred):\n",
        "    \"\"\"\n",
        "    Calculate Mean Squared Error (MSE)\n",
        "    \"\"\"\n",
        "    n = len(y_true)\n",
        "    sq_err = 0\n",
        "    for i in range(n):\n",
        "        sq_err += (y_true[i] - y_pred[i]) ** 2\n",
        "    mse = sq_err / n\n",
        "    return mse\n",
        "\n",
        "def rmse(y_true, y_pred):\n",
        "    \"\"\"\n",
        "    Calculate Root Mean Squared Error (RMSE)\n",
        "    \"\"\"\n",
        "    mse_val = mse(y_true, y_pred)\n",
        "    rmse = mse_val ** 0.5\n",
        "    return rmse\n",
        "\n",
        "y_true = [1, 2, 3, 4, 5]\n",
        "y_pred = [1.5, 2.5, 3.5, 4.5, 5.5]\n",
        "\n",
        "print(mse(y_true, y_pred))\n",
        "print(rmse(y_true, y_pred))"
      ],
      "metadata": {
        "colab": {
          "base_uri": "https://localhost:8080/"
        },
        "id": "QkHcy98jBDHX",
        "outputId": "1031e3e9-204c-4899-d548-843698586192"
      },
      "execution_count": null,
      "outputs": [
        {
          "output_type": "stream",
          "name": "stdout",
          "text": [
            "0.25\n",
            "0.5\n"
          ]
        }
      ]
    },
    {
      "cell_type": "code",
      "source": [
        "import math\n",
        "\n",
        "# Example dataset\n",
        "data = [1, 2, 3, 4, 5]\n",
        "\n",
        "# MSE\n",
        "target = [1, 2, 3, 4, 5]\n",
        "predictions = [2, 3, 4, 5, 6]\n",
        "mse = sum([(t-p)**2 for t,p in zip(target, predictions)]) / len(target)\n",
        "print(\"MSE:\", mse)\n",
        "\n",
        "# RMSE\n",
        "rmse = math.sqrt(mse)\n",
        "print(\"RMSE:\", rmse)"
      ],
      "metadata": {
        "id": "BdmfX703383o"
      },
      "execution_count": null,
      "outputs": []
    },
    {
      "cell_type": "code",
      "source": [
        "import numpy as np\n",
        "import pandas as pd\n",
        "\n",
        "def mse(y_true, y_pred):\n",
        "    \"\"\"\n",
        "    Calculate Mean Squared Error (MSE)\n",
        "    \"\"\"\n",
        "    mse = np.mean((y_true - y_pred)**2)\n",
        "    return mse\n",
        "\n",
        "def rmse(y_true, y_pred):\n",
        "    \"\"\"\n",
        "    Calculate Root Mean Squared Error (RMSE)\n",
        "    \"\"\"\n",
        "    mse_val = mse(y_true, y_pred)\n",
        "    rmse = np.sqrt(mse_val)\n",
        "    return rmse\n",
        "\n",
        "\n",
        "y_true = pd.Series([1, 2, 3, 4, 5])\n",
        "y_pred = pd.Series([1.5, 2.5, 3.5, 4.5, 5.5])\n",
        "\n",
        "print(mse(y_true, y_pred))\n",
        "print(rmse(y_true, y_pred))\n"
      ],
      "metadata": {
        "colab": {
          "base_uri": "https://localhost:8080/"
        },
        "id": "s6Rm0bQAN8Ne",
        "outputId": "509d9a0d-0b5d-4b8e-d67a-6d83e8d7b9c2"
      },
      "execution_count": null,
      "outputs": [
        {
          "output_type": "stream",
          "name": "stdout",
          "text": [
            "0.25\n",
            "0.5\n"
          ]
        }
      ]
    },
    {
      "cell_type": "code",
      "source": [
        "#SQLite3\n",
        "-- calculate MSE\n",
        "SELECT AVG((prediction - actual) * (prediction - actual)) AS mse\n",
        "FROM predictions;\n",
        "\n",
        "-- calculate RMSE\n",
        "SELECT SQRT(AVG((prediction - actual) * (prediction - actual))) AS rmse\n",
        "FROM predictions;\n",
        "\n",
        "#MySQL\n",
        "-- calculate MSE\n",
        "SELECT AVG((prediction - actual) * (prediction - actual)) AS mse\n",
        "FROM predictions;\n",
        "\n",
        "-- calculate RMSE\n",
        "SELECT SQRT(AVG((prediction - actual) * (prediction - actual))) AS rmse\n",
        "FROM predictions;\n"
      ],
      "metadata": {
        "id": "UD3fBWkmjTXo"
      },
      "execution_count": null,
      "outputs": []
    },
    {
      "cell_type": "code",
      "source": [
        "import sqlite3\n",
        "import math\n",
        "\n",
        "# create a SQLite3 database connection\n",
        "conn = sqlite3.connect('example.db')\n",
        "\n",
        "# create a cursor object to execute SQL queries\n",
        "cursor = conn.cursor()\n",
        "\n",
        "# create a table and insert the predictions and actual values into it\n",
        "create_table_query = \"CREATE TABLE predictions (prediction REAL, actual REAL)\"\n",
        "insert_query = \"INSERT INTO predictions (prediction, actual) VALUES (?, ?)\"\n",
        "cursor.execute(create_table_query)\n",
        "data = [(3.5, 4.0), (2.0, 1.5), (1.0, 1.5), (2.5, 3.0), (3.0, 2.5)]\n",
        "cursor.executemany(insert_query, data)\n",
        "\n",
        "# calculate MSE using the SQL query\n",
        "mse_query = \"SELECT AVG((prediction - actual) * (prediction - actual)) AS mse FROM predictions\"\n",
        "cursor.execute(mse_query)\n",
        "mse = cursor.fetchone()[0]\n",
        "\n",
        "# calculate RMSE using the SQL query\n",
        "rmse_query = \"SELECT SQRT(AVG((prediction - actual) * (prediction - actual))) AS rmse FROM predictions\"\n",
        "cursor.execute(rmse_query)\n",
        "rmse = cursor.fetchone()[0]\n",
        "\n",
        "# print the MSE and RMSE\n",
        "print(\"MSE:\", mse)\n",
        "print(\"RMSE:\", rmse)\n",
        "\n",
        "# close the cursor and database connection\n",
        "cursor.close()\n",
        "conn.close()"
      ],
      "metadata": {
        "id": "QFTvvcpwja6s"
      },
      "execution_count": null,
      "outputs": []
    },
    {
      "cell_type": "code",
      "source": [
        "import mysql.connector\n",
        "import math\n",
        "\n",
        "# create a MySQL database connection\n",
        "conn = mysql.connector.connect(\n",
        "    host=\"localhost\",\n",
        "    user=\"yourusername\",\n",
        "    password=\"yourpassword\",\n",
        "    database=\"example\"\n",
        ")\n",
        "\n",
        "# create a cursor object to execute SQL queries\n",
        "cursor = conn.cursor()\n",
        "\n",
        "# create a table and insert the predictions and actual values into it\n",
        "create_table_query = \"CREATE TABLE predictions (prediction FLOAT, actual FLOAT)\"\n",
        "insert_query = \"INSERT INTO predictions (prediction, actual) VALUES (%s, %s)\"\n",
        "data = [(3.5, 4.0), (2.0, 1.5), (1.0, 1.5), (2.5, 3.0), (3.0, 2.5)]\n",
        "cursor.execute(create_table_query)\n",
        "cursor.executemany(insert_query, data)\n",
        "conn.commit()\n",
        "\n",
        "# calculate MSE using the SQL query\n",
        "mse_query = \"SELECT AVG((prediction - actual) * (prediction - actual)) AS mse FROM predictions\"\n",
        "cursor.execute(mse_query)\n",
        "mse = cursor.fetchone()[0]\n",
        "\n",
        "# calculate RMSE using the SQL query\n",
        "rmse_query = \"SELECT SQRT(AVG((prediction - actual) * (prediction - actual))) AS rmse FROM predictions\"\n",
        "cursor.execute(rmse_query)\n",
        "rmse = cursor.fetchone()[0]\n",
        "\n",
        "# print the MSE and RMSE\n",
        "print(\"MSE:\", mse)\n",
        "print(\"RMSE:\", rmse)\n",
        "\n",
        "# close the cursor and database connection\n",
        "cursor.close()\n",
        "conn.close()"
      ],
      "metadata": {
        "id": "74A8vRLZjlDl"
      },
      "execution_count": null,
      "outputs": []
    },
    {
      "cell_type": "markdown",
      "source": [
        "# ***Variance***\n",
        "\n",
        "*is defined as the average of the squared distance from each point to the mean*\n",
        "\n",
        "*is the measure of how notably a collection of data is spread out.*\n",
        "\n",
        "* E(X) = μ= Σi xi pi       i = 1, 2, …, n\n",
        "\n",
        "* E(X) = x1p1 + x2p2 + … + xnpn.\n",
        "\n",
        "***https://byjus.com/maths/mean-squared-error/***"
      ],
      "metadata": {
        "id": "CV_UqJhvPKj6"
      }
    },
    {
      "cell_type": "code",
      "source": [
        "def variance(numbers):\n",
        "    n = len(numbers)\n",
        "    mean = sum(numbers) / n\n",
        "    variance = sum((x - mean) ** 2 for x in numbers) / (n - 1)\n",
        "    return variance\n",
        "\n",
        "numbers = [2, 4, 6, 8, 10]\n",
        "variance_of_numbers = variance(numbers)\n",
        "print(\"The variance of the numbers is:\", variance_of_numbers)"
      ],
      "metadata": {
        "colab": {
          "base_uri": "https://localhost:8080/"
        },
        "id": "hC8q3uspQg1i",
        "outputId": "ed82fe7c-9366-4df0-c1d1-48a358038157"
      },
      "execution_count": null,
      "outputs": [
        {
          "output_type": "stream",
          "name": "stdout",
          "text": [
            "The variance of the numbers is: 10.0\n"
          ]
        }
      ]
    },
    {
      "cell_type": "code",
      "source": [
        "import math\n",
        "\n",
        "# Example dataset\n",
        "#data = [1, 2, 3, 4, 5]\n",
        "data =[2, 4, 6, 8, 10]\n",
        "\n",
        "# Mean\n",
        "mean = sum(data) / len(data)\n",
        "\n",
        "# Variance\n",
        "variance = sum([(d-mean)**2 for d in data]) / len(data)\n",
        "print(\"Variance:\", variance)"
      ],
      "metadata": {
        "colab": {
          "base_uri": "https://localhost:8080/"
        },
        "id": "fquNXfE54MuF",
        "outputId": "3b3191e4-dd66-4f2f-b814-eb8322941488"
      },
      "execution_count": null,
      "outputs": [
        {
          "output_type": "stream",
          "name": "stdout",
          "text": [
            "Variance: 8.0\n"
          ]
        }
      ]
    },
    {
      "cell_type": "code",
      "source": [
        "import statistics\n",
        "\n",
        "# Create a list of numbers\n",
        "numbers = [2, 4, 6, 8, 10]\n",
        "\n",
        "# Calculate the variance\n",
        "variance = statistics.variance(numbers)\n",
        "\n",
        "# Print the variance\n",
        "print(\"Variance of the list:\", variance)"
      ],
      "metadata": {
        "colab": {
          "base_uri": "https://localhost:8080/"
        },
        "id": "H4WT5XsMUuxf",
        "outputId": "91fb1b5a-98cf-4ee3-e1b9-06b9aa6fd7be"
      },
      "execution_count": null,
      "outputs": [
        {
          "output_type": "stream",
          "name": "stdout",
          "text": [
            "Variance of the list: 10\n"
          ]
        }
      ]
    },
    {
      "cell_type": "code",
      "source": [
        "import numpy as np\n",
        "\n",
        "# Create a NumPy array of numbers\n",
        "numbers = np.array([2, 4, 6, 8, 10])\n",
        "\n",
        "# Calculate the variance using NumPy\n",
        "variance = np.var(numbers)\n",
        "\n",
        "# Print the variance\n",
        "print(\"The variance of the numbers using NumPy is:\", variance)"
      ],
      "metadata": {
        "colab": {
          "base_uri": "https://localhost:8080/"
        },
        "id": "RSS0VToTU-j7",
        "outputId": "4931dcfa-fe76-42b8-bf7a-f28d25ed520b"
      },
      "execution_count": null,
      "outputs": [
        {
          "output_type": "stream",
          "name": "stdout",
          "text": [
            "The variance of the numbers using NumPy is: 8.0\n"
          ]
        }
      ]
    },
    {
      "cell_type": "code",
      "source": [
        "import pandas as pd\n",
        "\n",
        "# Create a Pandas Series of numbers\n",
        "numbers = pd.Series([2, 4, 6, 8, 10])\n",
        "\n",
        "# Calculate the variance using Pandas\n",
        "variance = numbers.var()\n",
        "\n",
        "# Print the variance\n",
        "print(\"The variance of the numbers using Pandas is:\", variance)"
      ],
      "metadata": {
        "colab": {
          "base_uri": "https://localhost:8080/"
        },
        "id": "j-Nt2F_zVCRU",
        "outputId": "707535ed-4653-42fb-c6d6-1f085a5c3fb9"
      },
      "execution_count": null,
      "outputs": [
        {
          "output_type": "stream",
          "name": "stdout",
          "text": [
            "The variance of the numbers using Pandas is: 10.0\n"
          ]
        }
      ]
    },
    {
      "cell_type": "code",
      "source": [
        "import sqlite3\n",
        "import math\n",
        "\n",
        "# create a SQLite3 database connection\n",
        "conn = sqlite3.connect('example.db')\n",
        "\n",
        "# create a cursor object to execute SQL queries\n",
        "cursor = conn.cursor()\n",
        "\n",
        "# calculate variance using the SQL query\n",
        "var_query = \"\"\"\n",
        "    SELECT AVG((value - mean) * (value - mean)) AS variance\n",
        "    FROM (\n",
        "        SELECT AVG(value) AS mean, value\n",
        "        FROM data\n",
        "        GROUP BY id\n",
        "    );\n",
        "\"\"\"\n",
        "cursor.execute(var_query)\n",
        "variance = cursor.fetchone()[0]\n",
        "\n",
        "# print the result\n",
        "print(\"Variance:\", variance)\n",
        "\n",
        "# close the cursor and database connection\n",
        "cursor.close()\n",
        "conn.close()"
      ],
      "metadata": {
        "id": "mqEqwDVokGZH"
      },
      "execution_count": null,
      "outputs": []
    },
    {
      "cell_type": "code",
      "source": [
        "import mysql.connector\n",
        "import math\n",
        "\n",
        "# create a MySQL database connection\n",
        "conn = mysql.connector.connect(\n",
        "    host=\"localhost\",\n",
        "    user=\"root\",\n",
        "    password=\"password\",\n",
        "    database=\"example\"\n",
        ")\n",
        "\n",
        "# create a cursor object to execute SQL queries\n",
        "cursor = conn.cursor()\n",
        "\n",
        "# calculate variance using the SQL query\n",
        "var_query = \"\"\"\n",
        "    SELECT AVG((value - mean) * (value - mean)) AS variance\n",
        "    FROM (\n",
        "        SELECT AVG(value) AS mean, value\n",
        "        FROM data\n",
        "        GROUP BY id\n",
        "    ) AS subquery;\n",
        "\"\"\"\n",
        "cursor.execute(var_query)\n",
        "variance = cursor.fetchone()[0]\n",
        "\n",
        "# print the result\n",
        "print(\"Variance:\", variance)\n",
        "\n",
        "# close the cursor and database connection\n",
        "cursor.close()\n",
        "conn.close()"
      ],
      "metadata": {
        "id": "uCRrb3fWkPD9"
      },
      "execution_count": null,
      "outputs": []
    },
    {
      "cell_type": "markdown",
      "source": [
        "# ***Standard deviation***\n",
        "\n",
        "*is a measure which shows how much variation (such as spread, dispersion) from the mean exists.*  \n",
        "\n",
        "σ = √x  \n",
        "\n",
        "***https://byjus.com/maths/difference-between-variance-and-standard-deviation/***\n"
      ],
      "metadata": {
        "id": "uIAYWTE4VXTp"
      }
    },
    {
      "cell_type": "code",
      "source": [
        "# Define the standard deviation function\n",
        "def std_dev(numbers):\n",
        "    n = len(numbers)\n",
        "    mean = sum(numbers) / n\n",
        "    std_dev = (sum((x - mean) ** 2 for x in numbers) / (n - 1)) ** 0.5\n",
        "    return std_dev\n",
        "\n",
        "# Example usage\n",
        "numbers = [1, 2, 3, 4, 5]\n",
        "std_dev_of_numbers = std_dev(numbers)\n",
        "print(\"The standard deviation of the numbers is:\", std_dev_of_numbers)"
      ],
      "metadata": {
        "colab": {
          "base_uri": "https://localhost:8080/"
        },
        "id": "_i1FoMAbWKVd",
        "outputId": "2eb55463-d9af-45e8-aeeb-19a829b7cfa4"
      },
      "execution_count": null,
      "outputs": [
        {
          "output_type": "stream",
          "name": "stdout",
          "text": [
            "The standard deviation of the numbers is: 1.5811388300841898\n"
          ]
        }
      ]
    },
    {
      "cell_type": "code",
      "source": [
        "import math\n",
        "\n",
        "# Example dataset\n",
        "data = [1, 2, 3, 4, 5]\n",
        "\n",
        "# Variance\n",
        "variance = sum([(d-mean)**2 for d in data]) / len(data)\n",
        "\n",
        "# Standard deviation\n",
        "std_dev = math.sqrt(variance)\n",
        "print(\"Standard deviation:\", std_dev)"
      ],
      "metadata": {
        "colab": {
          "base_uri": "https://localhost:8080/"
        },
        "id": "XgSvu4x14rcl",
        "outputId": "1f34d1fb-e8e1-4fdf-b14b-9e7afccb73c5"
      },
      "execution_count": null,
      "outputs": [
        {
          "output_type": "stream",
          "name": "stdout",
          "text": [
            "Standard deviation: 3.3166247903554\n"
          ]
        }
      ]
    },
    {
      "cell_type": "code",
      "source": [
        "import statistics\n",
        "\n",
        "# Create a list of numbers\n",
        "numbers = [1, 2, 3, 4, 5]\n",
        "\n",
        "# Calculate the standard deviation using statistics module\n",
        "std_dev = statistics.stdev(numbers)\n",
        "\n",
        "# Print the standard deviation\n",
        "print(\"The standard deviation using statistics module is:\", std_dev)"
      ],
      "metadata": {
        "colab": {
          "base_uri": "https://localhost:8080/"
        },
        "id": "EUeZpeezVsy2",
        "outputId": "b6c99c29-c7db-4027-92b2-44b025de3e66"
      },
      "execution_count": null,
      "outputs": [
        {
          "output_type": "stream",
          "name": "stdout",
          "text": [
            "The standard deviation using statistics module is: 1.5811388300841898\n"
          ]
        }
      ]
    },
    {
      "cell_type": "code",
      "source": [
        "import numpy as np\n",
        "\n",
        "# Create a NumPy array of numbers\n",
        "numbers = np.array([1, 2, 3, 4, 5])\n",
        "\n",
        "# Calculate the standard deviation using NumPy\n",
        "std_dev = np.std(numbers)\n",
        "\n",
        "# Print the standard deviation\n",
        "print(\"The standard deviation using NumPy is:\", std_dev)"
      ],
      "metadata": {
        "colab": {
          "base_uri": "https://localhost:8080/"
        },
        "id": "qnFdoP1vVwJ6",
        "outputId": "e940e480-b7cf-438b-9dd8-fbf8ba6f455f"
      },
      "execution_count": null,
      "outputs": [
        {
          "output_type": "stream",
          "name": "stdout",
          "text": [
            "The standard deviation using NumPy is: 1.4142135623730951\n"
          ]
        }
      ]
    },
    {
      "cell_type": "code",
      "source": [
        "import pandas as pd\n",
        "\n",
        "# Create a Pandas Series of numbers\n",
        "numbers = pd.Series([1, 2, 3, 4, 5])\n",
        "\n",
        "# Calculate the standard deviation using Pandas\n",
        "std_dev = numbers.std()\n",
        "\n",
        "# Print the standard deviation\n",
        "print(\"The standard deviation using Pandas is:\", std_dev)"
      ],
      "metadata": {
        "colab": {
          "base_uri": "https://localhost:8080/"
        },
        "id": "vFndIuEQV1DQ",
        "outputId": "d25e35ec-bbec-4cf6-befd-ac4229a35896"
      },
      "execution_count": null,
      "outputs": [
        {
          "output_type": "stream",
          "name": "stdout",
          "text": [
            "The standard deviation using Pandas is: 1.5811388300841898\n"
          ]
        }
      ]
    },
    {
      "cell_type": "code",
      "source": [
        "import sqlite3\n",
        "import math\n",
        "\n",
        "# create a SQLite3 database connection\n",
        "conn = sqlite3.connect('example.db')\n",
        "\n",
        "# create a cursor object to execute SQL queries\n",
        "cursor = conn.cursor()\n",
        "\n",
        "# calculate standard deviation using the SQL query\n",
        "stddev_query = \"\"\"\n",
        "    SELECT SQRT(AVG((value - mean) * (value - mean))) AS stddev\n",
        "    FROM (\n",
        "        SELECT AVG(value) AS mean, value\n",
        "        FROM data\n",
        "        GROUP BY id\n",
        "    );\n",
        "\"\"\"\n",
        "cursor.execute(stddev_query)\n",
        "stddev = cursor.fetchone()[0]\n",
        "\n",
        "# print the result\n",
        "print(\"Standard deviation:\", stddev)\n",
        "\n",
        "# close the cursor and database connection\n",
        "cursor.close()\n",
        "conn.close()"
      ],
      "metadata": {
        "id": "MCs0pzFkkqKd"
      },
      "execution_count": null,
      "outputs": []
    },
    {
      "cell_type": "code",
      "source": [
        "import mysql.connector\n",
        "import math\n",
        "\n",
        "# create a MySQL database connection\n",
        "conn = mysql.connector.connect(\n",
        "    host=\"localhost\",\n",
        "    user=\"root\",\n",
        "    password=\"password\",\n",
        "    database=\"example\"\n",
        ")\n",
        "\n",
        "# create a cursor object to execute SQL queries\n",
        "cursor = conn.cursor()\n",
        "\n",
        "# calculate standard deviation using the SQL query\n",
        "stddev_query = \"\"\"\n",
        "    SELECT SQRT(AVG((value - mean) * (value - mean))) AS stddev\n",
        "    FROM (\n",
        "        SELECT AVG(value) AS mean, value\n",
        "        FROM data\n",
        "        GROUP BY id\n",
        "    ) AS subquery;\n",
        "\"\"\"\n",
        "cursor.execute(stddev_query)\n",
        "stddev = cursor.fetchone()[0]\n",
        "\n",
        "# print the result\n",
        "print(\"Standard deviation:\", stddev)\n",
        "\n",
        "# close the cursor and database connection\n",
        "cursor.close()\n",
        "conn.close()"
      ],
      "metadata": {
        "id": "TEP8rFqnksic"
      },
      "execution_count": null,
      "outputs": []
    },
    {
      "cell_type": "markdown",
      "source": [
        "# ***min***"
      ],
      "metadata": {
        "id": "aOwBMn6V5Sxn"
      }
    },
    {
      "cell_type": "code",
      "source": [
        "x = [0, -1, 4, 3, 5]\n",
        "min = x[0]\n",
        "for i in x:\n",
        "  if i <= min:\n",
        "    min = i\n",
        "print(min)    "
      ],
      "metadata": {
        "colab": {
          "base_uri": "https://localhost:8080/"
        },
        "id": "xWcH2qXW5RNM",
        "outputId": "cea8d57a-c624-4eb0-f618-d1efe3f3184d"
      },
      "execution_count": null,
      "outputs": [
        {
          "output_type": "stream",
          "name": "stdout",
          "text": [
            "-1\n"
          ]
        }
      ]
    },
    {
      "cell_type": "code",
      "source": [
        "#min function\n",
        "x = [8, 9, 4, 3, 5]\n",
        "def min(x):\n",
        "  min = x[0]\n",
        "  for i in x:\n",
        "    if i <= min:\n",
        "      min = i\n",
        "  return min\n",
        "\n",
        "min(x)  "
      ],
      "metadata": {
        "colab": {
          "base_uri": "https://localhost:8080/"
        },
        "id": "OlfCcflp5aBO",
        "outputId": "df7d9fc0-e4f7-4ec9-a354-b0f80ee986fa"
      },
      "execution_count": null,
      "outputs": [
        {
          "output_type": "execute_result",
          "data": {
            "text/plain": [
              "3"
            ]
          },
          "metadata": {},
          "execution_count": 17
        }
      ]
    },
    {
      "cell_type": "code",
      "source": [
        "import math\n",
        "\n",
        "# Example dataset\n",
        "data = [1, 2, 3, 4, 5]\n",
        "# min\n",
        "min_val = min(data)\n",
        "print(\"Min:\", min_val)"
      ],
      "metadata": {
        "colab": {
          "base_uri": "https://localhost:8080/"
        },
        "id": "EjJRfiyB49EQ",
        "outputId": "c77b360c-14a0-4e8b-a0d1-372e8977f1b1"
      },
      "execution_count": null,
      "outputs": [
        {
          "output_type": "stream",
          "name": "stdout",
          "text": [
            "Min: 1\n"
          ]
        }
      ]
    },
    {
      "cell_type": "code",
      "source": [
        "# built-in min func\n",
        "data = [8, 9, 4, 3, 5]\n",
        "\n",
        "minimum_value = min(data)\n",
        "\n",
        "print(minimum_value)\n"
      ],
      "metadata": {
        "colab": {
          "base_uri": "https://localhost:8080/"
        },
        "id": "STjJcw7bU_jh",
        "outputId": "1b67c9a0-bb64-42d5-8d50-22295b9cc35d"
      },
      "execution_count": null,
      "outputs": [
        {
          "output_type": "stream",
          "name": "stdout",
          "text": [
            "3\n"
          ]
        }
      ]
    },
    {
      "cell_type": "code",
      "source": [
        "import numpy as np\n",
        "\n",
        "arr = np.array([8, 9, 4, 3, 5])\n",
        "\n",
        "minimum_value = np.min(arr)\n",
        "\n",
        "print(minimum_value)"
      ],
      "metadata": {
        "colab": {
          "base_uri": "https://localhost:8080/"
        },
        "id": "vhF-F4xn5gLB",
        "outputId": "5eff4dc4-cb5f-49e4-c48c-45c0239badd9"
      },
      "execution_count": null,
      "outputs": [
        {
          "output_type": "stream",
          "name": "stdout",
          "text": [
            "3\n"
          ]
        }
      ]
    },
    {
      "cell_type": "code",
      "source": [
        "import pandas as pd\n",
        "\n",
        "df = pd.DataFrame({'A': [8, 9, 4, 3, 5], 'B': [6, 5, 7, 4, 3]})\n",
        "\n",
        "minimum_value = df.min().min()\n",
        "\n",
        "print(minimum_value)"
      ],
      "metadata": {
        "colab": {
          "base_uri": "https://localhost:8080/"
        },
        "id": "7QFOZs0jUrMf",
        "outputId": "f0361d27-c0b2-4946-b944-631d5bdcf272"
      },
      "execution_count": null,
      "outputs": [
        {
          "output_type": "stream",
          "name": "stdout",
          "text": [
            "3\n"
          ]
        }
      ]
    },
    {
      "cell_type": "code",
      "source": [
        "import sqlite3\n",
        "\n",
        "# create a SQLite3 database connection\n",
        "conn = sqlite3.connect('example.db')\n",
        "\n",
        "# create a cursor object to execute SQL queries\n",
        "cursor = conn.cursor()\n",
        "\n",
        "# execute the SQL query to find the minimum value in the table\n",
        "min_query = \"SELECT MIN(value) FROM data;\"\n",
        "cursor.execute(min_query)\n",
        "min_value = cursor.fetchone()[0]\n",
        "\n",
        "# print the result\n",
        "print(\"Minimum value:\", min_value)\n",
        "\n",
        "# close the cursor and database connection\n",
        "cursor.close()\n",
        "conn.close()"
      ],
      "metadata": {
        "id": "NhfSk1N0k_7k"
      },
      "execution_count": null,
      "outputs": []
    },
    {
      "cell_type": "code",
      "source": [
        "import mysql.connector\n",
        "\n",
        "# create a MySQL database connection\n",
        "conn = mysql.connector.connect(\n",
        "    host=\"localhost\",\n",
        "    user=\"root\",\n",
        "    password=\"password\",\n",
        "    database=\"example\"\n",
        ")\n",
        "\n",
        "# create a cursor object to execute SQL queries\n",
        "cursor = conn.cursor()\n",
        "\n",
        "# execute the SQL query to find the minimum value in the table\n",
        "min_query = \"SELECT MIN(value) FROM data;\"\n",
        "cursor.execute(min_query)\n",
        "min_value = cursor.fetchone()[0]\n",
        "\n",
        "# print the result\n",
        "print(\"Minimum value:\", min_value)\n",
        "\n",
        "# close the cursor and database connection\n",
        "cursor.close()\n",
        "conn.close()"
      ],
      "metadata": {
        "id": "XEAZ6U4XlCGE"
      },
      "execution_count": null,
      "outputs": []
    },
    {
      "cell_type": "markdown",
      "source": [
        "# ***max***"
      ],
      "metadata": {
        "id": "rbikOhembeRq"
      }
    },
    {
      "cell_type": "code",
      "source": [
        "x = [6, 2, 8, 1, 2]\n",
        "maxi = x[0]\n",
        "for i in x:\n",
        "  if i >= maxi:\n",
        "    maxi = i\n",
        "print(maxi)    "
      ],
      "metadata": {
        "colab": {
          "base_uri": "https://localhost:8080/"
        },
        "id": "-JnFFliHbmC7",
        "outputId": "cfa52313-11e0-4624-e833-e434299f1b78"
      },
      "execution_count": null,
      "outputs": [
        {
          "output_type": "stream",
          "name": "stdout",
          "text": [
            "8\n"
          ]
        }
      ]
    },
    {
      "cell_type": "code",
      "source": [
        "#max fun\n",
        "def maximum(x):\n",
        "  maxi = x[0]\n",
        "  for i in x:\n",
        "    if i >= maxi:\n",
        "      maxi = i\n",
        "  return maxi  \n",
        "\n",
        "x = [6, 2, 8, 1, 2]\n",
        "maximum(x)   "
      ],
      "metadata": {
        "colab": {
          "base_uri": "https://localhost:8080/"
        },
        "id": "8RzWX6E7bx4d",
        "outputId": "2e183b8e-3a2b-4f06-f1ec-d7e0315c3562"
      },
      "execution_count": null,
      "outputs": [
        {
          "output_type": "execute_result",
          "data": {
            "text/plain": [
              "8"
            ]
          },
          "metadata": {},
          "execution_count": 32
        }
      ]
    },
    {
      "cell_type": "code",
      "source": [
        "import math\n",
        "\n",
        "# Example dataset\n",
        "data = [1, 2, 3, 4, 5]\n",
        "\n",
        "max_val = max(data)\n",
        "\n",
        "print(\"Max:\", max_val)"
      ],
      "metadata": {
        "colab": {
          "base_uri": "https://localhost:8080/"
        },
        "id": "lhg5Bbms5M0o",
        "outputId": "53670a9b-108c-4fb0-d86f-e1737715df4e"
      },
      "execution_count": null,
      "outputs": [
        {
          "output_type": "stream",
          "name": "stdout",
          "text": [
            "Max: 5\n"
          ]
        }
      ]
    },
    {
      "cell_type": "code",
      "source": [
        "# built-in max function\n",
        "data = [6, 2, 8, 1, 2]\n",
        "\n",
        "max_value = max(data)\n",
        "\n",
        "print(max_value)"
      ],
      "metadata": {
        "colab": {
          "base_uri": "https://localhost:8080/"
        },
        "id": "DZST3LN-b3hL",
        "outputId": "e7db9ff0-5f31-4ef5-a23b-236ca25c5385"
      },
      "execution_count": null,
      "outputs": [
        {
          "output_type": "stream",
          "name": "stdout",
          "text": [
            "8\n"
          ]
        }
      ]
    },
    {
      "cell_type": "code",
      "source": [
        "import numpy as np\n",
        "\n",
        "arr = np.array([2, 3, 1, 4, 5])\n",
        "\n",
        "maximum_value = np.max(arr)\n",
        "\n",
        "print(maximum_value)"
      ],
      "metadata": {
        "colab": {
          "base_uri": "https://localhost:8080/"
        },
        "id": "R05OOYyPcTjW",
        "outputId": "92eadf14-f662-42ad-a04e-8ad18418b6c8"
      },
      "execution_count": null,
      "outputs": [
        {
          "output_type": "stream",
          "name": "stdout",
          "text": [
            "5\n"
          ]
        }
      ]
    },
    {
      "cell_type": "code",
      "source": [
        "import pandas as pd\n",
        "\n",
        "df = pd.DataFrame({'A': [2, 3, 1, 4, 5], 'B': [6, 5, 7, 4, 3]})\n",
        "\n",
        "maximum_value = df.max().max()\n",
        "\n",
        "print(maximum_value)"
      ],
      "metadata": {
        "colab": {
          "base_uri": "https://localhost:8080/"
        },
        "id": "O11oiEHucO7v",
        "outputId": "b4160776-f263-4923-cf5c-c66b120b1af7"
      },
      "execution_count": null,
      "outputs": [
        {
          "output_type": "stream",
          "name": "stdout",
          "text": [
            "7\n"
          ]
        }
      ]
    },
    {
      "cell_type": "code",
      "source": [
        "import pandas as pd\n",
        "\n",
        "# Create a DataFrame with two columns, 'A' and 'B'\n",
        "df = pd.DataFrame({'A': [2, 3, 1, 4, 5], 'B': [6, 5, 7, 4, 3]})\n",
        "\n",
        "# Use the max() function on the DataFrame to find the maximum value in each column\n",
        "max_by_column = df.max()\n",
        "\n",
        "# max_by_column is now a Series object, which contains the maximum value for each column\n",
        "# We can use the max() function again on this Series to find the overall maximum value\n",
        "max_value = max_by_column.max()\n",
        "\n",
        "print(max_value)"
      ],
      "metadata": {
        "id": "Mi-CJBTWeAA_"
      },
      "execution_count": null,
      "outputs": []
    },
    {
      "cell_type": "code",
      "source": [
        "import sqlite3\n",
        "\n",
        "# create a SQLite3 database connection\n",
        "conn = sqlite3.connect('example.db')\n",
        "\n",
        "# create a cursor object to execute SQL queries\n",
        "cursor = conn.cursor()\n",
        "\n",
        "# execute the SQL query to find the maximum value in the table\n",
        "max_query = \"SELECT MAX(value) FROM data;\"\n",
        "cursor.execute(max_query)\n",
        "max_value = cursor.fetchone()[0]\n",
        "\n",
        "# print the result\n",
        "print(\"Maximum value:\", max_value)\n",
        "\n",
        "# close the cursor and database connection\n",
        "cursor.close()\n",
        "conn.close()"
      ],
      "metadata": {
        "id": "9NImJ-b4lcPZ"
      },
      "execution_count": null,
      "outputs": []
    },
    {
      "cell_type": "code",
      "source": [
        "import mysql.connector\n",
        "\n",
        "# create a MySQL database connection\n",
        "conn = mysql.connector.connect(\n",
        "    host=\"localhost\",\n",
        "    user=\"root\",\n",
        "    password=\"password\",\n",
        "    database=\"example\"\n",
        ")\n",
        "\n",
        "# create a cursor object to execute SQL queries\n",
        "cursor = conn.cursor()\n",
        "\n",
        "# execute the SQL query to find the maximum value in the table\n",
        "max_query = \"SELECT MAX(value) FROM data;\"\n",
        "cursor.execute(max_query)\n",
        "max_value = cursor.fetchone()[0]\n",
        "\n",
        "# print the result\n",
        "print(\"Maximum value:\", max_value)\n",
        "\n",
        "# close the cursor and database connection\n",
        "cursor.close()\n",
        "conn.close()"
      ],
      "metadata": {
        "id": "5LLrkkPSlH8r"
      },
      "execution_count": null,
      "outputs": []
    },
    {
      "cell_type": "markdown",
      "source": [
        "# ***Accuracy***\n",
        "\n",
        "*Accuracy = (True positives + True Negatives)/ (True positives + True negatives + False positives + False negatives)*"
      ],
      "metadata": {
        "id": "rvQ9X275fLPy"
      }
    },
    {
      "cell_type": "code",
      "source": [
        "import numpy as np\n",
        "\n",
        "def accuracy(y_true, y_pred):\n",
        "    \"\"\"\n",
        "    Calculates the accuracy of a classification model given true and predicted labels.\n",
        "    \n",
        "    Args:\n",
        "        y_true (numpy.ndarray): The true labels of the data.\n",
        "        y_pred (numpy.ndarray): The predicted labels of the data.\n",
        "    \n",
        "    Returns:\n",
        "        The accuracy of the model as a decimal value between 0 and 1.\n",
        "    \"\"\"\n",
        "    return np.mean(y_true == y_pred)\n",
        "\n",
        "y_true = np.array([1, 0, 1, 0, 1])\n",
        "y_pred = np.array([1, 1, 0, 0, 1])\n",
        "acc = accuracy(y_true, y_pred)\n",
        "print(acc)"
      ],
      "metadata": {
        "colab": {
          "base_uri": "https://localhost:8080/"
        },
        "id": "qk9VFqMxfpau",
        "outputId": "602798be-c730-4169-f1fd-6ad19df572e7"
      },
      "execution_count": null,
      "outputs": [
        {
          "output_type": "stream",
          "name": "stdout",
          "text": [
            "0.6\n"
          ]
        }
      ]
    },
    {
      "cell_type": "code",
      "source": [
        "import pandas as pd\n",
        "\n",
        "def accuracy(y_true, y_pred):\n",
        "    \"\"\"\n",
        "    Calculates the accuracy of a classification model given true and predicted labels.\n",
        "    \n",
        "    Args:\n",
        "        y_true (pandas.Series): The true labels of the data.\n",
        "        y_pred (pandas.Series): The predicted labels of the data.\n",
        "    \n",
        "    Returns:\n",
        "        The accuracy of the model as a decimal value between 0 and 1.\n",
        "    \"\"\"\n",
        "    return (y_true == y_pred).mean()\n",
        "\n",
        "y_true = pd.Series([1, 0, 1, 0, 1])\n",
        "y_pred = pd.Series([1, 1, 0, 0, 1])\n",
        "acc = accuracy(y_true, y_pred)\n",
        "print(acc)"
      ],
      "metadata": {
        "colab": {
          "base_uri": "https://localhost:8080/"
        },
        "id": "i_HPyGmTnPuT",
        "outputId": "d55a9417-5e61-407b-cad0-b7379e2b4d5b"
      },
      "execution_count": null,
      "outputs": [
        {
          "output_type": "stream",
          "name": "stdout",
          "text": [
            "0.6\n"
          ]
        }
      ]
    },
    {
      "cell_type": "code",
      "source": [
        "import sqlite3\n",
        "from sklearn.metrics import accuracy_score\n",
        "\n",
        "# create a SQLite3 database connection\n",
        "conn = sqlite3.connect('example.db')\n",
        "\n",
        "# create a cursor object to execute SQL queries\n",
        "cursor = conn.cursor()\n",
        "\n",
        "# execute the SQL query to retrieve the predicted and actual values\n",
        "data_query = \"SELECT predicted_value, actual_value FROM data;\"\n",
        "cursor.execute(data_query)\n",
        "data = cursor.fetchall()\n",
        "\n",
        "# extract the predicted and actual values into separate lists\n",
        "predicted_values = [row[0] for row in data]\n",
        "actual_values = [row[1] for row in data]\n",
        "\n",
        "# calculate the accuracy\n",
        "accuracy = accuracy_score(actual_values, predicted_values)\n",
        "\n",
        "# print the result\n",
        "print(\"Accuracy:\", accuracy)\n",
        "\n",
        "# close the cursor and database connection\n",
        "cursor.close()\n",
        "conn.close()"
      ],
      "metadata": {
        "id": "6zh5eR7DnzIB"
      },
      "execution_count": null,
      "outputs": []
    },
    {
      "cell_type": "code",
      "source": [
        "import mysql.connector\n",
        "from sklearn.metrics import accuracy_score\n",
        "\n",
        "# create a MySQL database connection\n",
        "conn = mysql.connector.connect(\n",
        "    host=\"localhost\",\n",
        "    user=\"root\",\n",
        "    password=\"password\",\n",
        "    database=\"example\"\n",
        ")\n",
        "\n",
        "# create a cursor object to execute SQL queries\n",
        "cursor = conn.cursor()\n",
        "\n",
        "# execute the SQL query to retrieve the predicted and actual values\n",
        "data_query = \"SELECT predicted_value, actual_value FROM data;\"\n",
        "cursor.execute(data_query)\n",
        "data = cursor.fetchall()\n",
        "\n",
        "# extract the predicted and actual values into separate lists\n",
        "predicted_values = [row[0] for row in data]\n",
        "actual_values = [row[1] for row in data]\n",
        "\n",
        "# calculate the accuracy\n",
        "accuracy = accuracy_score(actual_values, predicted_values)\n",
        "\n",
        "# print the result\n",
        "print(\"Accuracy:\", accuracy)\n",
        "\n",
        "# close the cursor and database connection\n",
        "cursor.close()\n",
        "conn.close()"
      ],
      "metadata": {
        "id": "_8bM7BxXn6fs"
      },
      "execution_count": null,
      "outputs": []
    },
    {
      "cell_type": "markdown",
      "source": [
        "# ***Precision***\n",
        "\n",
        "*Precision = True positives/ (True positives + False positives)*"
      ],
      "metadata": {
        "id": "_zZIvPZmfR72"
      }
    },
    {
      "cell_type": "code",
      "source": [
        "import numpy as np\n",
        "\n",
        "def precision(y_true, y_pred):\n",
        "    \"\"\"\n",
        "    Calculates the precision of a classification model given true and predicted labels.\n",
        "    \n",
        "    Args:\n",
        "        y_true (numpy.ndarray): The true labels of the data.\n",
        "        y_pred (numpy.ndarray): The predicted labels of the data.\n",
        "    \n",
        "    Returns:\n",
        "        The precision of the model as a decimal value between 0 and 1.\n",
        "    \"\"\"\n",
        "    true_positives = np.sum((y_true == 1) & (y_pred == 1))\n",
        "    false_positives = np.sum((y_true == 0) & (y_pred == 1))\n",
        "    return true_positives / (true_positives + false_positives)\n",
        "\n",
        "y_true = np.array([1, 0, 1, 0, 1])\n",
        "y_pred = np.array([1, 1, 0, 0, 1])\n",
        "prec = precision(y_true, y_pred)\n",
        "print(prec)"
      ],
      "metadata": {
        "colab": {
          "base_uri": "https://localhost:8080/"
        },
        "id": "ovUrVRuDgB4W",
        "outputId": "66a505f6-c591-4f19-cc90-4d8032d8331b"
      },
      "execution_count": null,
      "outputs": [
        {
          "output_type": "stream",
          "name": "stdout",
          "text": [
            "0.6666666666666666\n"
          ]
        }
      ]
    },
    {
      "cell_type": "code",
      "source": [
        "import pandas as pd\n",
        "\n",
        "def precision(y_true, y_pred):\n",
        "    \"\"\"\n",
        "    Calculates the precision of a classification model given true and predicted labels.\n",
        "    \n",
        "    Args:\n",
        "        y_true (pandas.Series): The true labels of the data.\n",
        "        y_pred (pandas.Series): The predicted labels of the data.\n",
        "    \n",
        "    Returns:\n",
        "        The precision of the model as a decimal value between 0 and 1.\n",
        "    \"\"\"\n",
        "    true_positives = ((y_true == 1) & (y_pred == 1)).sum()\n",
        "    false_positives = ((y_true == 0) & (y_pred == 1)).sum()\n",
        "    return true_positives / (true_positives + false_positives)\n",
        "\n",
        "y_true = pd.Series([1, 0, 1, 0, 1])\n",
        "y_pred = pd.Series([1, 1, 0, 0, 1])\n",
        "prec = precision(y_true, y_pred)\n",
        "print(prec)"
      ],
      "metadata": {
        "colab": {
          "base_uri": "https://localhost:8080/"
        },
        "id": "q10R4EmLnccy",
        "outputId": "7b93a063-5e36-4520-9f6a-535acb45b1f3"
      },
      "execution_count": null,
      "outputs": [
        {
          "output_type": "stream",
          "name": "stdout",
          "text": [
            "0.6666666666666666\n"
          ]
        }
      ]
    },
    {
      "cell_type": "code",
      "source": [
        "SELECT COUNT(*) as TP FROM table WHERE predicted_class = 'positive' AND actual_class = 'positive';\n",
        "SELECT COUNT(*) as FP FROM table WHERE predicted_class = 'positive' AND actual_class = 'negative';\n",
        "\n",
        "SELECT TP / (TP + FP) as precision FROM \n",
        "(SELECT COUNT(*) as TP FROM table WHERE predicted_class = 'positive' AND actual_class = 'positive') as T,\n",
        "(SELECT COUNT(*) as FP FROM table WHERE predicted_class = 'positive' AND actual_class = 'negative') as F;"
      ],
      "metadata": {
        "id": "UFOba9dKpYqy"
      },
      "execution_count": null,
      "outputs": []
    },
    {
      "cell_type": "code",
      "source": [
        "import sqlite3\n",
        "\n",
        "conn = sqlite3.connect('database.db')\n",
        "c = conn.cursor()\n",
        "\n",
        "# Count number of true positives\n",
        "c.execute(\"SELECT COUNT(*) as TP FROM table WHERE predicted_class = 'positive' AND actual_class = 'positive'\")\n",
        "TP = c.fetchone()[0]\n",
        "\n",
        "# Count number of false positives\n",
        "c.execute(\"SELECT COUNT(*) as FP FROM table WHERE predicted_class = 'positive' AND actual_class = 'negative'\")\n",
        "FP = c.fetchone()[0]\n",
        "\n",
        "# Calculate precision\n",
        "precision = TP / (TP + FP)\n",
        "\n",
        "print(\"Precision:\", precision)\n",
        "\n",
        "conn.close()"
      ],
      "metadata": {
        "id": "UV8Fns3Dpc_c"
      },
      "execution_count": null,
      "outputs": []
    },
    {
      "cell_type": "code",
      "source": [
        "import mysql.connector\n",
        "\n",
        "mydb = mysql.connector.connect(\n",
        "  host=\"localhost\",\n",
        "  user=\"yourusername\",\n",
        "  password=\"yourpassword\",\n",
        "  database=\"mydatabase\"\n",
        ")\n",
        "\n",
        "mycursor = mydb.cursor()\n",
        "\n",
        "# Count number of true positives\n",
        "mycursor.execute(\"SELECT COUNT(*) as TP FROM table WHERE predicted_class = 'positive' AND actual_class = 'positive'\")\n",
        "TP = mycursor.fetchone()[0]\n",
        "\n",
        "# Count number of false positives\n",
        "mycursor.execute(\"SELECT COUNT(*) as FP FROM table WHERE predicted_class = 'positive' AND actual_class = 'negative'\")\n",
        "FP = mycursor.fetchone()[0]\n",
        "\n",
        "# Calculate precision\n",
        "precision = TP / (TP + FP)\n",
        "\n",
        "print(\"Precision:\", precision)\n",
        "\n",
        "mydb.close()"
      ],
      "metadata": {
        "id": "JFSKyzfCpgUs"
      },
      "execution_count": null,
      "outputs": []
    },
    {
      "cell_type": "markdown",
      "source": [
        "# ***Recall***\n",
        "\n",
        "*Recall = [tp/tp+fn]*"
      ],
      "metadata": {
        "id": "774dvMMAfVXX"
      }
    },
    {
      "cell_type": "code",
      "source": [
        "import numpy as np\n",
        "\n",
        "def recall(y_true, y_pred):\n",
        "    \"\"\"\n",
        "    Calculates the recall of a classification model given true and predicted labels.\n",
        "    \n",
        "    Args:\n",
        "        y_true (numpy.ndarray): The true labels of the data.\n",
        "        y_pred (numpy.ndarray): The predicted labels of the data.\n",
        "    \n",
        "    Returns:\n",
        "        The recall of the model as a decimal value between 0 and 1.\n",
        "    \"\"\"\n",
        "    true_positives = np.sum((y_true == 1) & (y_pred == 1))\n",
        "    false_negatives = np.sum((y_true == 1) & (y_pred == 0))\n",
        "    return true_positives / (true_positives + false_negatives)\n",
        "\n",
        "y_true = np.array([1, 0, 1, 0, 1])\n",
        "y_pred = np.array([1, 1, 0, 0, 1])\n",
        "rec = recall(y_true, y_pred)\n",
        "print(rec)\n"
      ],
      "metadata": {
        "colab": {
          "base_uri": "https://localhost:8080/"
        },
        "id": "Pwkw56ymgPKt",
        "outputId": "80bb2747-3d38-4740-bce9-e7d69c098659"
      },
      "execution_count": null,
      "outputs": [
        {
          "output_type": "stream",
          "name": "stdout",
          "text": [
            "0.6666666666666666\n"
          ]
        }
      ]
    },
    {
      "cell_type": "code",
      "source": [
        "import pandas as pd\n",
        "\n",
        "def recall(y_true, y_pred):\n",
        "    \"\"\"\n",
        "    Calculates the recall of a classification model given true and predicted labels.\n",
        "    \n",
        "    Args:\n",
        "        y_true (pandas.Series): The true labels of the data.\n",
        "        y_pred (pandas.Series): The predicted labels of the data.\n",
        "    \n",
        "    Returns:\n",
        "        The recall of the model as a decimal value between 0 and 1.\n",
        "    \"\"\"\n",
        "    true_positives = ((y_true == 1) & (y_pred == 1)).sum()\n",
        "    false_negatives = ((y_true == 1) & (y_pred == 0)).sum()\n",
        "    return true_positives / (true_positives + false_negatives)\n",
        "\n",
        "y_true = pd.Series([1, 0, 1, 0, 1])\n",
        "y_pred = pd.Series([1, 1, 0, 0, 1])\n",
        "\n",
        "rec = recall(y_true, y_pred)\n",
        "\n",
        "print(rec)"
      ],
      "metadata": {
        "colab": {
          "base_uri": "https://localhost:8080/"
        },
        "id": "XHWydiZ3oHtK",
        "outputId": "330f6909-e602-44f8-9b1d-13f4bcb389ea"
      },
      "execution_count": null,
      "outputs": [
        {
          "output_type": "stream",
          "name": "stdout",
          "text": [
            "0.6666666666666666\n"
          ]
        }
      ]
    },
    {
      "cell_type": "code",
      "source": [
        "SELECT COUNT(*) as TP FROM table WHERE predicted_class = 'positive' AND actual_class = 'positive';\n",
        "SELECT COUNT(*) as FN FROM table WHERE predicted_class = 'negative' AND actual_class = 'positive';\n",
        "\n",
        "SELECT TP / (TP + FN) as recall FROM \n",
        "(SELECT COUNT(*) as TP FROM table WHERE predicted_class = 'positive' AND actual_class = 'positive') as T,\n",
        "(SELECT COUNT(*) as FN FROM table WHERE predicted_class = 'negative' AND actual_class = 'positive') as F;"
      ],
      "metadata": {
        "id": "6lwHL6e9poc5"
      },
      "execution_count": null,
      "outputs": []
    },
    {
      "cell_type": "code",
      "source": [
        "import sqlite3\n",
        "\n",
        "conn = sqlite3.connect('database.db')\n",
        "c = conn.cursor()\n",
        "\n",
        "# Count number of true positives\n",
        "c.execute(\"SELECT COUNT(*) as TP FROM table WHERE predicted_class = 'positive' AND actual_class = 'positive'\")\n",
        "TP = c.fetchone()[0]\n",
        "\n",
        "# Count number of false negatives\n",
        "c.execute(\"SELECT COUNT(*) as FN FROM table WHERE predicted_class = 'negative' AND actual_class = 'positive'\")\n",
        "FN = c.fetchone()[0]\n",
        "\n",
        "# Calculate recall\n",
        "recall = TP / (TP + FN)\n",
        "\n",
        "print(\"Recall:\", recall)\n",
        "\n",
        "conn.close()"
      ],
      "metadata": {
        "id": "Jn5n7eRPqRlm"
      },
      "execution_count": null,
      "outputs": []
    },
    {
      "cell_type": "code",
      "source": [
        "import mysql.connector\n",
        "\n",
        "mydb = mysql.connector.connect(\n",
        "  host=\"localhost\",\n",
        "  user=\"yourusername\",\n",
        "  password=\"yourpassword\",\n",
        "  database=\"mydatabase\"\n",
        ")\n",
        "\n",
        "mycursor = mydb.cursor()\n",
        "\n",
        "# Count number of true positives\n",
        "mycursor.execute(\"SELECT COUNT(*) as TP FROM table WHERE predicted_class = 'positive' AND actual_class = 'positive'\")\n",
        "TP = mycursor.fetchone()[0]\n",
        "\n",
        "# Count number of false negatives\n",
        "mycursor.execute(\"SELECT COUNT(*) as FN FROM table WHERE predicted_class = 'negative' AND actual_class = 'positive'\")\n",
        "FN = mycursor.fetchone()[0]\n",
        "\n",
        "# Calculate recall\n",
        "recall = TP / (TP + FN)\n",
        "\n",
        "print(\"Recall:\", recall)\n",
        "\n",
        "mydb.close()"
      ],
      "metadata": {
        "id": "1r0cqvCpqVOJ"
      },
      "execution_count": null,
      "outputs": []
    },
    {
      "cell_type": "markdown",
      "source": [
        "# ***f1-score***\n",
        "\n",
        "* [2*{precision*recall/precision+recall}])"
      ],
      "metadata": {
        "id": "rnXcdgDWfYSb"
      }
    },
    {
      "cell_type": "code",
      "source": [
        "import numpy as np\n",
        "\n",
        "def f1_score(y_true, y_pred):\n",
        "    \"\"\"\n",
        "    Calculates the F1-score of a classification model given true and predicted labels.\n",
        "    \n",
        "    Args:\n",
        "        y_true (numpy.ndarray): The true labels of the data.\n",
        "        y_pred (numpy.ndarray): The predicted labels of the data.\n",
        "    \n",
        "    Returns:\n",
        "        The F1-score of the model as a decimal value between 0 and 1.\n",
        "    \"\"\"\n",
        "    p = precision(y_true, y_pred)\n",
        "    r = recall(y_true, y_pred)\n",
        "    return 2 * p * r / (p + r)\n",
        "\n",
        "y_true = np.array([1, 0, 1, 0, 1])\n",
        "y_pred = np.array([1, 1, 0, 0, 1])\n",
        "f1 = f1_score(y_true, y_pred)\n",
        "print(f1)"
      ],
      "metadata": {
        "colab": {
          "base_uri": "https://localhost:8080/"
        },
        "id": "hnVZ-WL6g1nx",
        "outputId": "321f0177-d3c9-4789-a05e-fcd0d361552f"
      },
      "execution_count": null,
      "outputs": [
        {
          "output_type": "stream",
          "name": "stdout",
          "text": [
            "0.6666666666666666\n"
          ]
        }
      ]
    },
    {
      "cell_type": "code",
      "source": [
        "import pandas as pd\n",
        "\n",
        "def f1_score(y_true, y_pred):\n",
        "    \"\"\"\n",
        "    Calculates the F1-score of a classification model given true and predicted labels.\n",
        "    \n",
        "    Args:\n",
        "        y_true (pandas.Series): The true labels of the data.\n",
        "        y_pred (pandas.Series): The predicted labels of the data.\n",
        "    \n",
        "    Returns:\n",
        "        The F1-score of the model as a decimal value between 0 and 1.\n",
        "    \"\"\"\n",
        "    p = precision(y_true, y_pred)\n",
        "    r = recall(y_true, y_pred)\n",
        "    return 2 * p * r / (p + r)\n",
        "\n",
        "y_true = pd.Series([1, 0, 1, 0, 1])\n",
        "y_pred = pd.Series([1, 1, 0, 0, 1])\n",
        "\n",
        "f1 = f1_score(y_true, y_pred)\n",
        "\n",
        "print(f1)"
      ],
      "metadata": {
        "colab": {
          "base_uri": "https://localhost:8080/"
        },
        "id": "3U7KHEWNg4B4",
        "outputId": "b9b4c01e-02b2-4e80-f881-a2ef4c4e4368"
      },
      "execution_count": null,
      "outputs": [
        {
          "output_type": "stream",
          "name": "stdout",
          "text": [
            "0.6666666666666666\n"
          ]
        }
      ]
    },
    {
      "cell_type": "code",
      "source": [
        "F1-score = 2 * precision * recall / (precision + recall)"
      ],
      "metadata": {
        "id": "a23ubcXGqv4a"
      },
      "execution_count": null,
      "outputs": []
    },
    {
      "cell_type": "code",
      "source": [
        "SELECT SUM(CASE WHEN actual = 1 AND predicted = 1 THEN 1 ELSE 0 END) AS TP,\n",
        "       SUM(CASE WHEN actual = 0 AND predicted = 1 THEN 1 ELSE 0 END) AS FP,\n",
        "       SUM(CASE WHEN actual = 1 AND predicted = 0 THEN 1 ELSE 0 END) AS FN\n",
        "FROM classification_results;\n",
        "\n",
        "\n",
        "SELECT SUM(CASE WHEN actual = 1 AND predicted = 1 THEN 1 ELSE 0 END) AS TP,\n",
        "       SUM(CASE WHEN actual = 0 AND predicted = 1 THEN 1 ELSE 0 END) AS FP,\n",
        "       SUM(CASE WHEN actual = 1 AND predicted = 0 THEN 1 ELSE 0 END) AS FN\n",
        "FROM classification_results;"
      ],
      "metadata": {
        "id": "BJ_XX_NrBtiy"
      },
      "execution_count": null,
      "outputs": []
    },
    {
      "cell_type": "code",
      "source": [],
      "metadata": {
        "id": "JYGpDV-oq8Pm"
      },
      "execution_count": null,
      "outputs": []
    },
    {
      "cell_type": "markdown",
      "source": [
        "# metrics"
      ],
      "metadata": {
        "id": "6xYHbl1vyJNd"
      }
    },
    {
      "cell_type": "code",
      "source": [
        "# Accuracy, Precision, Recall, F1-score\n",
        "true_positives = 10\n",
        "false_positives = 2\n",
        "true_negatives = 5\n",
        "false_negatives = 3\n",
        "\n",
        "accuracy = (true_positives + true_negatives) / (true_positives + false_positives + true_negatives + false_negatives)\n",
        "precision = true_positives / (true_positives + false_positives)\n",
        "recall = true_positives / (true_positives + false_negatives)\n",
        "f1_score = 2 * (precision * recall) / (precision + recall)\n",
        "\n",
        "print(\"Accuracy:\", accuracy)\n",
        "print(\"Precision:\", precision)\n",
        "print(\"Recall:\", recall)\n",
        "print(\"F1-score:\", f1_score)"
      ],
      "metadata": {
        "id": "_7pXkIiZ5crq"
      },
      "execution_count": null,
      "outputs": []
    },
    {
      "cell_type": "code",
      "source": [
        "def calculate_metrics(y_true, y_pred):\n",
        "    TP = sum([1 for i in range(len(y_true)) if y_true[i] == y_pred[i] == 1])\n",
        "    FP = sum([1 for i in range(len(y_true)) if y_true[i] == 0 and y_pred[i] == 1])\n",
        "    FN = sum([1 for i in range(len(y_true)) if y_true[i] == 1 and y_pred[i] == 0])\n",
        "    TN = sum([1 for i in range(len(y_true)) if y_true[i] == y_pred[i] == 0])\n",
        "\n",
        "    accuracy = (TP + TN) / (TP + FP + FN + TN)\n",
        "    precision = TP / (TP + FP)\n",
        "    recall = TP / (TP + FN)\n",
        "    f1_score = 2 * precision * recall / (precision + recall)\n",
        "\n",
        "    return accuracy, precision, recall, f1_score\n",
        "\n",
        "# Example usage:\n",
        "y_true = [1, 1, 0, 0, 1]\n",
        "y_pred = [1, 1, 0, 0, 1]\n",
        "\n",
        "accuracy, precision, recall, f1_score = calculate_metrics(y_true, y_pred)\n",
        "\n",
        "print(\"Accuracy:\", accuracy)\n",
        "print(\"Precision:\", precision)\n",
        "print(\"Recall:\", recall)\n",
        "print(\"F1-score:\", f1_score)\n"
      ],
      "metadata": {
        "colab": {
          "base_uri": "https://localhost:8080/"
        },
        "id": "5Uh0Ha3Gyc3O",
        "outputId": "eae5941f-10ec-4bb1-d3db-cc164a01edb2"
      },
      "execution_count": null,
      "outputs": [
        {
          "output_type": "stream",
          "name": "stdout",
          "text": [
            "Accuracy: 1.0\n",
            "Precision: 1.0\n",
            "Recall: 1.0\n",
            "F1-score: 1.0\n"
          ]
        }
      ]
    },
    {
      "cell_type": "code",
      "source": [
        "#@title\n",
        "def calculate_metrics(y_true, y_pred):\n",
        "    # True Positives (TP): we predict a label of 1 (positive), and the true label is 1.\n",
        "    TP = sum((y_true == 1) & (y_pred == 1))\n",
        "\n",
        "    # False Positives (FP): we predict a label of 1 (positive), but the true label is 0 (negative).\n",
        "    FP = sum((y_true == 0) & (y_pred == 1))\n",
        "\n",
        "    # True Negatives (TN): we predict a label of 0 (negative), and the true label is 0.\n",
        "    TN = sum((y_true == 0) & (y_pred == 0))\n",
        "\n",
        "    # False Negatives (FN): we predict a label of 0 (negative), but the true label is 1 (positive).\n",
        "    FN = sum((y_true == 1) & (y_pred == 0))\n",
        "\n",
        "    # Accuracy: the proportion of true results (both true positives and true negatives) among the total number of cases examined.\n",
        "    accuracy = (TP + TN) / (TP + TN + FP + FN)\n",
        "\n",
        "    # Precision: the proportion of true positives among the total number of positive results (both true positives and false positives).\n",
        "    precision = TP / (TP + FP)\n",
        "\n",
        "    # Recall: the proportion of true positives among the total number of actual positives (both true positives and false negatives).\n",
        "    recall = TP / (TP + FN)\n",
        "\n",
        "    # F1-Score: a weighted average of the precision and recall, where an F1 score reaches its best value at 1 and worst score at 0.\n",
        "    f1_score = 2 * precision * recall / (precision + recall)\n",
        "\n",
        "    return accuracy, precision, recall, f1_score\n"
      ],
      "metadata": {
        "cellView": "form",
        "id": "BH_pGSotyH_G"
      },
      "execution_count": null,
      "outputs": []
    }
  ]
}