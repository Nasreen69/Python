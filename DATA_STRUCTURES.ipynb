{
  "nbformat": 4,
  "nbformat_minor": 0,
  "metadata": {
    "colab": {
      "provenance": [],
      "collapsed_sections": [
        "TlSZrvQ5Nb9r",
        "kzUDzJN-3YRu",
        "iFNo3s7Amwyj",
        "3loyjEIqmme_",
        "tUWkVOCjv5TP",
        "q99ah3lZwO1_",
        "vDz25reHbf2Q"
      ],
      "authorship_tag": "ABX9TyMW4lVDyIfe3JpbpoyUSHyB",
      "include_colab_link": true
    },
    "kernelspec": {
      "name": "python3",
      "display_name": "Python 3"
    },
    "language_info": {
      "name": "python"
    }
  },
  "cells": [
    {
      "cell_type": "markdown",
      "metadata": {
        "id": "view-in-github",
        "colab_type": "text"
      },
      "source": [
        "<a href=\"https://colab.research.google.com/github/Nasreen69/Python/blob/main/DATA_STRUCTURES.ipynb\" target=\"_parent\"><img src=\"https://colab.research.google.com/assets/colab-badge.svg\" alt=\"Open In Colab\"/></a>"
      ]
    },
    {
      "cell_type": "markdown",
      "source": [
        "# ***STRINGS***"
      ],
      "metadata": {
        "id": "TlSZrvQ5Nb9r"
      }
    },
    {
      "cell_type": "markdown",
      "source": [
        "### *STRING METHODS*"
      ],
      "metadata": {
        "id": "kzUDzJN-3YRu"
      }
    },
    {
      "cell_type": "markdown",
      "source": [
        "*Immutable(cant modify) sequence data type, group of characters wrapped inside single, double, or triple quotes*"
      ],
      "metadata": {
        "id": "j4D2PMMXEuGW"
      }
    },
    {
      "cell_type": "code",
      "execution_count": null,
      "metadata": {
        "colab": {
          "base_uri": "https://localhost:8080/"
        },
        "id": "BwcodsLNy9Ui",
        "outputId": "86d1dc76-3797-460f-d6d1-be357e24465c"
      },
      "outputs": [
        {
          "output_type": "stream",
          "name": "stdout",
          "text": [
            "TITLE: Nashu Working Hard To Do Miracles: Nashu \n",
            "LENGTH: 41\n",
            "COUNT: 1\n",
            "0\n",
            "FIND: -1\n",
            "INDEX 0\n",
            "REVERSE: nohtyp\n",
            "LOWER: nashu working hard to do miracles: nashu \n",
            "LOWER: hello, and welcome to my world!\n",
            "UPPER: NASHU WORKING HARD TO DO MIRACLES: NASHU \n",
            "CAPITAL: Python\n",
            "SWAPSPACE: hELLO mAGICAL WORLD\n",
            "\n",
            "\n",
            "REPLACE: I enjoy coding in SQL.\n",
            "SQL is easy to learn.\n",
            "I've been coding in SQL for 3 years now.:)\n",
            "REPLACE: Nasreen has skillset, Nasreen can create innovative things, Nashu is self-motivated\n",
            "\n",
            "******FORMAT********\n",
            "Mano and Nashu are friends\n",
            "Nashu and Mano are friends\n",
            "Mano, Nashu are friends\n",
            "\n",
            "\n",
            "STRIP: Nashu has skillset, Nashu can create innovative things, Nashu is self-motivated\n",
            "SPLIT: ['Nashu', 'has', 'skillset,', 'Nashu', 'can', 'create', 'innovative', 'things,', 'Nashu', 'is', 'self-motivated']\n",
            "CONCATENATION: I enjoy coding in Python.\n",
            "Python is easy to learn.\n",
            "I've been coding in Python for 3 years now.:)Nashu working hard to do miracles: Nashu \n",
            "------------------------------------------------------\n",
            "python:includes 2 excludes 5: tho\n",
            "python: pytho\n",
            "python: thon\n",
            "python: yth\n",
            "center:        python       \n",
            "encode: b'python'\n",
            "endswith: True\n",
            "True\n"
          ]
        }
      ],
      "source": [
        "my_str1 = \"I enjoy coding in Python.\\nPython is easy to learn.\\nI've been coding in Python for 3 years now.:)\"\n",
        "my_str2 =\"Nashu working hard to do miracles: Nashu \"\n",
        "my_str3 = \"Nashu has skillset, Nashu can create innovative things, Nashu is self-motivated\"\n",
        "my_str4 = \"python\"\n",
        "my_str5 = \"Hello Magical world\"  \n",
        "txt = \"HELLO, AND WELCOME TO MY WORLD!\"\n",
        "\n",
        "print(\"TITLE:\", my_str2.title())\n",
        "print(\"LENGTH:\", len(my_str2))\n",
        "print(\"COUNT:\", my_str2.count('N', 3))\n",
        "print(my_str2.count(\"N\", 3, 8)) #count(string,begin,end)/count(sub[, start[, end]]) sub(required),start,end(optional) #print(\"occurences:\", oc)\n",
        "\n",
        "print(\"FIND:\", my_str2.find(\"Nasreen\"))  #-1 error couldnt find, if it returns 18 then it exists\n",
        "print(\"INDEX\", my_str2.index(\"Nashu\"))\n",
        "print(\"REVERSE:\", my_str4[::-1])\n",
        "\n",
        "print(\"LOWER:\", my_str2.lower())     # Make str to lower case\n",
        "print(\"LOWER:\", txt.casefold())\n",
        "print(\"UPPER:\", my_str2.upper())\n",
        "print(\"CAPITAL:\",my_str4.capitalize()) # Converts 1st letter to uppercase\n",
        "print(\"SWAPSPACE:\", my_str5.swapcase()) # Converts case of the string characters from uppercase to lowercase and vice versa.\n",
        "\n",
        "\n",
        "print(\"\\n\")\n",
        "print(\"REPLACE:\", my_str1.replace(\"Python\", \"SQL\"))  #print(my_str1.replace(\"PYTHON\", \"SQL\", 2))\n",
        "print(\"REPLACE:\", my_str3.replace(\"Nashu\", \"Nasreen\", 2))\n",
        "\n",
        "print(\"\\n******FORMAT********\")\n",
        "print(\"{} and {} are friends\".format(\"Mano\",\"Nashu\")) #format \n",
        "print(\"{1} and {0} are friends\".format(\"Mano\",\"Nashu\"))\n",
        "print(\"{a}, {b} are friends\".format(a=\"Mano\",b=\"Nashu\"))\n",
        "\n",
        "print(\"\\n\")\n",
        "print(\"STRIP:\", my_str3.strip())  # removes any whitespace from the beginning or the end:\n",
        "print(\"SPLIT:\", my_str3.split())  # splits the string into substrings if it finds instances of the separator: splitlines\n",
        "\n",
        "new_str = my_str1+my_str2  #concatination\n",
        "print(\"CONCATENATION:\", new_str)\n",
        "my_str4.isdigit()\n",
        "\n",
        "print('------------------------------------------------------')\n",
        "\n",
        "print(\"python:includes 2 excludes 5:\", my_str4[2:5])\n",
        "print(\"python:\", my_str4[:5]) # my_str4[:-1]\n",
        "print(\"python:\", my_str4[2:])\n",
        "print(\"python:\", my_str4[-5:-2])\n",
        "print(\"center:\", my_str4.center(20)) # my_str4.center(20, \".\")\n",
        "print(\"encode:\", my_str4.encode())  \n",
        "print(\"endswith:\", txt.endswith(\"MY WORLD!\"))        # my_str4.endswith(\"my world.\", 5, 11)\n",
        "\n",
        "#print(\"Escape Characters: \\', \\\\, \\n, \\r, \\t, \\b, \\f, \\ooo, \\xhh\")\n"
      ]
    },
    {
      "cell_type": "code",
      "source": [
        "string = \"Python42\"\n",
        "a = \"\\u0030\" #unicode for 0\n",
        "b = \"\\u0047\" #unicode for G\n",
        "\n",
        "print(\"alphanumeric:\", string.isalnum())  # returns alphabet letter (a-z) and numbers (0-9) not (space)!#%&? etc.\n",
        "print(\"alphabet:\", string.isalpha())\n",
        "print(\"Decimal check:\", a.isdecimal(), b.isdecimal())\n",
        "print(\"Digit check:\", a.isdigit())\n",
        "print(\"Identifier:\", string.isidentifier()) #contains alphanumeric letters (a-z) and (0-9), or underscores (_) cannot start with number\n",
        "print(\"case check:\", string.islower())\n",
        "print(\"case check:\", string.isupper())\n",
        "print(\"Numeric check:\", string.isnumeric())\n",
        "print(\"printable:\", string.isprintable())\n",
        "print(\"space check:\", string.isspace())\n",
        "print(\"Title check:\", string.istitle()) #all words in a text start with a upper case letter, AND the rest of the word are lower case letters\n",
        "print(\"partition:\", string.partition('42'))"
      ],
      "metadata": {
        "colab": {
          "base_uri": "https://localhost:8080/"
        },
        "id": "E1-lda0FxnEa",
        "outputId": "7be9349e-1451-40c5-f034-b16817d32da2"
      },
      "execution_count": null,
      "outputs": [
        {
          "output_type": "stream",
          "name": "stdout",
          "text": [
            "alphanumeric: True\n",
            "alphabet: False\n",
            "Decimal check: True False\n",
            "Digit check: True\n",
            "Identifier: True\n",
            "case check: False\n",
            "case check: False\n",
            "Numeric check: False\n",
            "printable: True\n",
            "space check: False\n",
            "Title check: True\n",
            "partition: ('Python', '42', '')\n"
          ]
        }
      ]
    },
    {
      "cell_type": "markdown",
      "source": [
        "ERRORS"
      ],
      "metadata": {
        "id": "8VzzKrQb1rs3"
      }
    },
    {
      "cell_type": "code",
      "source": [
        "'''print(my_str.len())   AttributeError: 'str' object has no attribute 'len' \n",
        "   IndexError: string index out of range\n",
        "   TypeError: 'str' object does not support item assignment\n",
        "   TypeError: 'str' object doesn't support item deletion\n",
        "   NameError: name 'str1' is not defined\n",
        "   SyntaxError: invalid syntax\n",
        "   SyntaxError: unexpected EOF while parsing\n",
        "'''\n",
        "'love coding in python'"
      ],
      "metadata": {
        "id": "DzRIoWU41Vfo"
      },
      "execution_count": null,
      "outputs": []
    },
    {
      "cell_type": "code",
      "source": [
        "message = \"\"\"\n",
        "Never gonna give you up\n",
        "Never gonna let you down\n",
        "\"\"\"\n",
        "\n",
        "print(message)"
      ],
      "metadata": {
        "colab": {
          "base_uri": "https://localhost:8080/"
        },
        "id": "P9oc8Hhi32wV",
        "outputId": "65eb2fae-8e94-41dc-b4ea-7b1e10ef2bdc"
      },
      "execution_count": null,
      "outputs": [
        {
          "output_type": "stream",
          "name": "stdout",
          "text": [
            "\n",
            "Never gonna give you up\n",
            "Never gonna let you down\n",
            "\n"
          ]
        }
      ]
    },
    {
      "cell_type": "code",
      "source": [
        "txt = \"Hello Fruity!\"\n",
        "x = \"ytiurF\"  \n",
        "y = \"uuhsaN\"\n",
        "mytable = txt.maketrans(x, y)\n",
        "print(txt.translate(mytable))"
      ],
      "metadata": {
        "colab": {
          "base_uri": "https://localhost:8080/"
        },
        "id": "atVY2co8-J-Q",
        "outputId": "23e7472e-4144-481d-a6b3-971a26db3cd1"
      },
      "execution_count": null,
      "outputs": [
        {
          "output_type": "stream",
          "name": "stdout",
          "text": [
            "Hello Nashuu!\n"
          ]
        }
      ]
    },
    {
      "cell_type": "code",
      "source": [],
      "metadata": {
        "id": "6MECaSnUM9ZC"
      },
      "execution_count": null,
      "outputs": []
    },
    {
      "cell_type": "markdown",
      "source": [
        "# ***LISTS***"
      ],
      "metadata": {
        "id": "iFNo3s7Amwyj"
      }
    },
    {
      "cell_type": "markdown",
      "source": [
        "### ***List Methods***"
      ],
      "metadata": {
        "id": "3loyjEIqmme_"
      }
    },
    {
      "cell_type": "markdown",
      "source": [
        "*Mutable, collection of values or items of different types separated with comma*"
      ],
      "metadata": {
        "id": "w4TrekGd36iS"
      }
    },
    {
      "cell_type": "code",
      "source": [
        "del list"
      ],
      "metadata": {
        "id": "iyg-6JBAEQGy"
      },
      "execution_count": null,
      "outputs": []
    },
    {
      "cell_type": "code",
      "source": [
        "print(list)"
      ],
      "metadata": {
        "colab": {
          "base_uri": "https://localhost:8080/"
        },
        "id": "3hMhnhUwDlp-",
        "outputId": "766ed325-ac46-4b82-ca19-699d93b5e746"
      },
      "execution_count": 41,
      "outputs": [
        {
          "output_type": "stream",
          "name": "stdout",
          "text": [
            "<class 'list'>\n"
          ]
        }
      ]
    },
    {
      "cell_type": "code",
      "source": [
        "my_list = [1,2,3,4,5,6,7] \n",
        "my_list1 = list(range(8,11))  #my_list1 = [8,9,10,11] \n",
        "my_list4 = [6,3,2,8,4,9]\n",
        "\n",
        "print(\"CREATE:\", my_list1 )\n",
        "print(\"CREATE AND REVERSE:\", list(range(5, -1, -1)))\n",
        "print(\"REVERSE:\", my_list[::-1])  # my_list.reverse()\n",
        "print(\"COUNT:\", my_list.count(1))\n",
        "\n",
        "my_list.insert(1, \"9\")\n",
        "print(\"INSERT:\", my_list)\n",
        "\n",
        "my_list1.append(my_list)   # my_list1.extend(my_list)\n",
        "print(\"APPEND ITEMS:\", my_list1) # Adding items at end of list\n",
        "\n",
        "my_list2 = my_list1.copy()\n",
        "print(\"COPY ITEMS:\", my_list2)\n",
        "\n",
        "y = my_list.index(4)\n",
        "print(\"POSITION:\", y)\n",
        "\n",
        "z = my_list.pop(2)\n",
        "print(\"DELETE:\", z, my_list)\n",
        "\n",
        "r = my_list.remove(3)\n",
        "print(\"REMOVE :\", r, my_list)\n",
        "\n",
        "x = my_list1.clear()\n",
        "print(\"REMOVE ITEMS:\", x)\n",
        "\n",
        "my_list4.sort()\n",
        "print(\"SORT:\", my_list4)\n",
        "\n",
        "list = [2, 4, 0, 3, 6, 9, 7, 8, 1]\n",
        "print(\"\\n Particular Items in list\")\n",
        "print(list[0:6])\n",
        "print(list[:])  \n",
        "print(list[2:5])  \n",
        "print(list[1:6:2]) \n",
        "\n",
        "print(list[-1])  \n",
        "print(list[-3:])  \n",
        "print(list[:-1])  \n",
        "print(list[-3:-1]) \n"
      ],
      "metadata": {
        "colab": {
          "base_uri": "https://localhost:8080/"
        },
        "id": "E5I-tdCLnFIj",
        "outputId": "0c6cef0d-77b7-4072-e62f-4fd12f2c042b"
      },
      "execution_count": 42,
      "outputs": [
        {
          "output_type": "stream",
          "name": "stdout",
          "text": [
            "CREATE: [8, 9, 10]\n",
            "CREATE AND REVERSE: [5, 4, 3, 2, 1, 0]\n",
            "REVERSE: [7, 6, 5, 4, 3, 2, 1]\n",
            "COUNT: 1\n",
            "INSERT: [1, '9', 2, 3, 4, 5, 6, 7]\n",
            "APPEND ITEMS: [8, 9, 10, [1, '9', 2, 3, 4, 5, 6, 7]]\n",
            "COPY ITEMS: [8, 9, 10, [1, '9', 2, 3, 4, 5, 6, 7]]\n",
            "POSITION: 4\n",
            "DELETE: 2 [1, '9', 3, 4, 5, 6, 7]\n",
            "REMOVE : None [1, '9', 4, 5, 6, 7]\n",
            "REMOVE ITEMS: None\n",
            "SORT: [2, 3, 4, 6, 8, 9]\n",
            "\n",
            " Particular Items in list\n",
            "[2, 4, 0, 3, 6, 9]\n",
            "[2, 4, 0, 3, 6, 9, 7, 8, 1]\n",
            "[0, 3, 6]\n",
            "[4, 3, 9]\n",
            "1\n",
            "[7, 8, 1]\n",
            "[2, 4, 0, 3, 6, 9, 7, 8]\n",
            "[7, 8]\n"
          ]
        }
      ]
    },
    {
      "cell_type": "code",
      "source": [
        "lst = list(map(int, input().split()))   #10, 11, 12, 13, 14, 15, 16\n",
        "lst.reverse()                                                                 \n",
        "print(\"Using reverse() \", lst)\n",
        "print(\"Using reversed() \", list(reversed(lst)))"
      ],
      "metadata": {
        "colab": {
          "base_uri": "https://localhost:8080/"
        },
        "id": "hOL2Ro22Be_O",
        "outputId": "0619a7d3-10d7-4f1e-dbe1-ae2691126983"
      },
      "execution_count": 40,
      "outputs": [
        {
          "output_type": "stream",
          "name": "stdout",
          "text": [
            "10 11 12 13 14 15 16\n",
            "Using reverse()  [16, 15, 14, 13, 12, 11, 10]\n",
            "Using reversed()  [10, 11, 12, 13, 14, 15, 16]\n"
          ]
        }
      ]
    },
    {
      "cell_type": "markdown",
      "source": [
        "# ***DICTIONARY***\n"
      ],
      "metadata": {
        "id": "tUWkVOCjv5TP"
      }
    },
    {
      "cell_type": "markdown",
      "source": [
        "*datatype which store the data in a key-value pair format*\n",
        "\n",
        "*It is an unordered and changeable collection type*"
      ],
      "metadata": {
        "id": "QiVVRZTAqGto"
      }
    },
    {
      "cell_type": "code",
      "source": [
        "Dict = {}\n",
        "Dict1 = dict([(1, 'Nashu'), (2, 'Afreen')]) \n",
        "Dict2 = {\"Name\": \"Taufiq\", \"Age\": 29, \"salary\": 25000, \"Company\":\"GOOGLE\"}  \n",
        "x = {\"Hyderabad\", \"Bangalore\" \"Aurangabad\", \"Pune\" }\n",
        "\n",
        "Dict[0] = 'Peter'\n",
        "Dict[1] = 'Joseph'\n",
        "Dict[2] = 'Ricky'\n",
        "Dict[3] = 'Nashu'\n",
        "Dict['Emp_ages'] = 20, 33, 24\n",
        "print(\"Creating Dictionary:\", Dict)\n",
        "print(\"Creating Dictionary:\", dict.fromkeys(x))\n",
        "print(\"Deleting a key:\", Dict.pop(2), Dict)\n",
        "\n",
        "dict3 = Dict1.copy()\n",
        "print(\"COPY:\", dict3)\n",
        "print(\"GET VALUE:\", dict3.get(1))\n",
        "print(\"GET ITEMS:\", dict3.items())  #return key-value pair\n",
        "print(\"GET VALUES:\", dict3.keys())\n",
        "print(\"DELETE:\", dict3.pop(1))\n",
        "print(\"Remove Last Item:\", Dict2.popitem())\n",
        "print(\"GET VALUE OF ITEM:\", Dict2.setdefault(\"Company\", \"AMAZON\"))\n",
        "print(\"UPDATE:\", Dict2.update({\"ID\": \"46328\"}), Dict2)\n",
        "print(\"DELETE VALUES:\", dict3.clear(), dict3)\n",
        "\n",
        "#del Dict[\"Nashu\"]\n",
        "#print(\"Deleting element:\")\n",
        "\n",
        "print(\"Name:%s\"%Dict2[\"Name\"])\n",
        "print(\"Age:%d\"%Dict2[\"Age\"])\n",
        "print(\"salary:%d\"%Dict2[\"salary\"])\n",
        "print(\"Company:%s\"%Dict2[\"Company\"])"
      ],
      "metadata": {
        "colab": {
          "base_uri": "https://localhost:8080/"
        },
        "id": "Y1sNvBgdv4Wb",
        "outputId": "0812d254-6aa2-4882-92de-924dbe0332de"
      },
      "execution_count": 67,
      "outputs": [
        {
          "output_type": "stream",
          "name": "stdout",
          "text": [
            "Creating Dictionary: {0: 'Peter', 1: 'Joseph', 2: 'Ricky', 3: 'Nashu', 'Emp_ages': (20, 33, 24)}\n",
            "Creating Dictionary: {'Hyderabad': None, 'BangaloreAurangabad': None, 'Pune': None}\n",
            "Deleting a key: Ricky {0: 'Peter', 1: 'Joseph', 3: 'Nashu', 'Emp_ages': (20, 33, 24)}\n",
            "COPY: {1: 'Nashu', 2: 'Afreen'}\n",
            "GET VALUE: Nashu\n",
            "GET ITEMS: dict_items([(1, 'Nashu'), (2, 'Afreen')])\n",
            "GET VALUES: dict_keys([1, 2])\n",
            "DELETE: Nashu\n",
            "Remove Last Item: ('Company', 'GOOGLE')\n",
            "GET VALUE OF ITEM: AMAZON\n",
            "UPDATE: None {'Name': 'Taufiq', 'Age': 29, 'salary': 25000, 'Company': 'AMAZON', 'ID': '46328'}\n",
            "DELETE VALUES: None {}\n",
            "Name:Taufiq\n",
            "Age:29\n",
            "salary:25000\n",
            "Company:AMAZON\n"
          ]
        }
      ]
    },
    {
      "cell_type": "code",
      "source": [
        "for x in Dict2.values():\n",
        "  print(\"Displaying values:\", x)\n",
        "\n",
        "for x in Dict2.keys():\n",
        "  print(\"Displaying keys:\", x)\n",
        "\n",
        "for x in Dict2.items():\n",
        "  print(\"Displaying items:\", x)\n",
        "\n",
        "for x,y in Dict2.items():\n",
        "  print(\"Displaying items:\", x,y)"
      ],
      "metadata": {
        "colab": {
          "base_uri": "https://localhost:8080/"
        },
        "id": "2w5zPgKJH1wo",
        "outputId": "0ed62350-2f66-42a0-8717-cb64e50dc5e6"
      },
      "execution_count": 68,
      "outputs": [
        {
          "output_type": "stream",
          "name": "stdout",
          "text": [
            "Displaying values: Taufiq\n",
            "Displaying values: 29\n",
            "Displaying values: 25000\n",
            "Displaying values: AMAZON\n",
            "Displaying values: 46328\n",
            "Displaying keys: Name\n",
            "Displaying keys: Age\n",
            "Displaying keys: salary\n",
            "Displaying keys: Company\n",
            "Displaying keys: ID\n",
            "Displaying items: ('Name', 'Taufiq')\n",
            "Displaying items: ('Age', 29)\n",
            "Displaying items: ('salary', 25000)\n",
            "Displaying items: ('Company', 'AMAZON')\n",
            "Displaying items: ('ID', '46328')\n",
            "Displaying items: Name Taufiq\n",
            "Displaying items: Age 29\n",
            "Displaying items: salary 25000\n",
            "Displaying items: Company AMAZON\n",
            "Displaying items: ID 46328\n"
          ]
        }
      ]
    },
    {
      "cell_type": "markdown",
      "source": [
        "# ***SETS***\n"
      ],
      "metadata": {
        "id": "q99ah3lZwO1_"
      }
    },
    {
      "cell_type": "markdown",
      "source": [
        "*collection of unordered & unindexed items,each element is mutable,unique and used to remove duplicates*"
      ],
      "metadata": {
        "id": "0YBopqW0qSKX"
      }
    },
    {
      "cell_type": "code",
      "source": [
        "set4 = {\"Monday\", \"Tuesday\", \"Wednesday\", \"Thursday\", \"Friday\", \"Saturday\", \"Sunday\"}\n",
        "set2 = set()\n",
        "set3 = {1,2,4,4,5,8,9,9,10}\n",
        "set1 = (1,2,4,4,5,8,9,9,10)\n",
        "set5 = {\"Monday\",\"Tuesday\", \"Wednesday\", \"Thursday\"}   \n",
        "set6 = set([\"Peter\",\"James\",\"Camroon\",\"Ricky\",\"Donald\"])  \n",
        "\n",
        "print(set4) \n",
        "for i in set4:    \n",
        "    print(i)   \n",
        "\n",
        "print(type(set4))\n",
        "print(type(set2))  \n",
        "\n",
        "print(\"COUNT:\", set1.count(9))\n",
        "print(\"INDEX:\", set1.index(9))\n",
        "\n",
        "print(\"Remove duplicates:\", set3)\n",
        "print(\"Adding items to the set:\" )\n",
        "set4.add(\"January\");\n",
        "print(set4)\n",
        "set4.update([\"July\", \"August\", \"June\"]);\n",
        "print(set4)\n",
        "\n",
        "print(\"Removing items from the set:\" )\n",
        "set4.discard(\"January\"); #if item doesn't exist Python will not give the error\n",
        "set4.remove(\"July\");    #if item doesn't exist Python will raise an error\n",
        "print(set4)\n",
        "\n",
        "print(\"intersection of the two sets:\", set4&set5)\n",
        "print(\"intersection of the two sets:\", set4.intersection(set5))\n",
        "\n",
        "print(\"Difference > subtraction (-) operator:\", set4-set5)\n",
        "print(\"Difference > difference() method:\", set4.difference(set5))\n",
        "print(\"Difference > symmetric_difference() method:\", set4^set5)\n",
        "print(\"Difference > symmetric_difference() method:\", set4.symmetric_difference(set5))\n",
        "print(\"Union:\", set3.union(set5))\n",
        "\n",
        "print(\"Set comparisons:superset(>),subset(<),equivalent(==)\\n\", set4>set5, set4<set5, set4==set5)\n",
        "print(\"Set comparisons:issubset(>=/<=),issuperset(>=/<=)n\", set4>=set5, set4<=set5)"
      ],
      "metadata": {
        "colab": {
          "base_uri": "https://localhost:8080/"
        },
        "id": "8hx8_Jojumhl",
        "outputId": "7c666c37-e93c-4375-934f-3db3cb75dd12"
      },
      "execution_count": 84,
      "outputs": [
        {
          "output_type": "stream",
          "name": "stdout",
          "text": [
            "{'Saturday', 'Friday', 'Monday', 'Thursday', 'Sunday', 'Tuesday', 'Wednesday'}\n",
            "Saturday\n",
            "Friday\n",
            "Monday\n",
            "Thursday\n",
            "Sunday\n",
            "Tuesday\n",
            "Wednesday\n",
            "<class 'set'>\n",
            "<class 'set'>\n",
            "COUNT: 2\n",
            "INDEX: 6\n",
            "Remove duplicates: {1, 2, 4, 5, 8, 9, 10}\n",
            "Adding items to the set:\n",
            "{'Saturday', 'Friday', 'Monday', 'Thursday', 'Sunday', 'Tuesday', 'January', 'Wednesday'}\n",
            "{'Saturday', 'Friday', 'Monday', 'Thursday', 'Sunday', 'June', 'Tuesday', 'January', 'Wednesday', 'August', 'July'}\n",
            "Removing items from the set:\n",
            "{'Saturday', 'Friday', 'Monday', 'Thursday', 'Sunday', 'June', 'Tuesday', 'Wednesday', 'August'}\n",
            "intersection of the two sets: {'Tuesday', 'Wednesday', 'Monday', 'Thursday'}\n",
            "intersection of the two sets: {'Tuesday', 'Wednesday', 'Monday', 'Thursday'}\n",
            "Difference > subtraction (-) operator: {'Saturday', 'Friday', 'Sunday', 'June', 'August'}\n",
            "Difference > difference() method: {'Saturday', 'Friday', 'Sunday', 'June', 'August'}\n",
            "Difference > symmetric_difference() method: {'Saturday', 'Friday', 'Sunday', 'June', 'August'}\n",
            "Difference > symmetric_difference() method: {'Saturday', 'Friday', 'Sunday', 'June', 'August'}\n",
            "Union: {1, 2, 4, 5, 8, 9, 10, 'Monday', 'Thursday', 'Tuesday', 'Wednesday'}\n",
            "Set comparisons:superset(>),subset(<),equivalent(==)\n",
            " True False False\n",
            "Set comparisons:issubset(>=/<=),issuperset(>=/<=)n True False\n"
          ]
        }
      ]
    },
    {
      "cell_type": "code",
      "source": [
        "print(\"****Creating a set which have immutable elements****\")\n",
        "set1 = {1,2,3, \"JavaTpoint\", 20.5, 14}  \n",
        "print(type(set1)) \n",
        "\n",
        "set2 = 0\n",
        "try:\n",
        "  set2 = {1,2,3,[\"Javatpoint\",4]}  \n",
        "  print(type(set2)) \n",
        "except Exception as e: \n",
        "  print(e) "
      ],
      "metadata": {
        "colab": {
          "base_uri": "https://localhost:8080/"
        },
        "id": "jenUFc9Pyncs",
        "outputId": "dce16154-22ba-4e43-ae2d-56f77860b662"
      },
      "execution_count": 70,
      "outputs": [
        {
          "output_type": "stream",
          "name": "stdout",
          "text": [
            "****Creating a set which have immutable elements****\n",
            "<class 'set'>\n",
            "unhashable type: 'list'\n"
          ]
        }
      ]
    },
    {
      "cell_type": "markdown",
      "source": [
        "# ***TUPLES***\n"
      ],
      "metadata": {
        "id": "vDz25reHbf2Q"
      }
    },
    {
      "cell_type": "markdown",
      "source": [
        "*Immutable sequence data type,collection of comma-separated (,) values enclosed with the small () brackets/parentheses.*"
      ],
      "metadata": {
        "id": "Eqfx7LPBqly0"
      }
    },
    {
      "cell_type": "code",
      "source": [
        "thistuple = (\"apple\", \"banana\", \"cherry\", \"orange\", \"kiwi\", \"melon\", \"mango\")\n",
        "thislist = [\"apple\", \"banana\", \"cherry\", \"orange\", \"kiwi\", \"melon\", \"mango\"]\n",
        "\n",
        "print(thistuple[-4:-1])\n",
        "print(thislist[-1])\n",
        "print(thislist[2:5])\n",
        "print(thislist[0:-3])"
      ],
      "metadata": {
        "colab": {
          "base_uri": "https://localhost:8080/"
        },
        "id": "iGtnypxsPmDT",
        "outputId": "be3c0dac-abed-4d22-e5c8-308eb921ca51"
      },
      "execution_count": 85,
      "outputs": [
        {
          "output_type": "stream",
          "name": "stdout",
          "text": [
            "('orange', 'kiwi', 'melon')\n",
            "mango\n",
            "['cherry', 'orange', 'kiwi']\n",
            "['apple', 'banana', 'cherry', 'orange']\n"
          ]
        }
      ]
    },
    {
      "cell_type": "code",
      "source": [
        "tup = (\"JavaTpoint\",) #tuple with single element\n",
        "tup1 = (10,20,30,40,50,60)  #('1', '2', '3', '4', '5', '6', '7')\n",
        "tup2 = ('1', '2', '3', '4', '5', '6', '7')\n",
        "count = 0\n",
        "for i in tup1:\n",
        "  print(\"tuple with index:\", \"tup1[%d]=%s\"%(count,i)) #%sor%d can use\n",
        "  count +=1\n",
        "print(\"***SLICING***\")\n",
        "print(tup2[:5])\n",
        "print(tup2[2:])\n",
        "print(tup2[0:])  #print(tup2[:])\n",
        "print(tup2[0:6:2]) #0 to 6 take 2 steps\n",
        "print(\"Negative Indexing:\")\n",
        "print(tup2[-1])\n",
        "print(tup2[:-1])\n",
        "print(tup2[-5:-2])\n",
        "print(tup2[-2:])\n",
        "print(\"Concatenation:\", tup1+tup2)\n",
        "print(\"Length:\", len(tup1))\n",
        "print(\"Maximum:\", max(tup2))\n",
        "print(\"Minimum:\", min(tup1))"
      ],
      "metadata": {
        "colab": {
          "base_uri": "https://localhost:8080/"
        },
        "id": "3oRYhOczdzb6",
        "outputId": "ebc39581-9f44-4187-bb2d-42615615aea5"
      },
      "execution_count": 87,
      "outputs": [
        {
          "output_type": "stream",
          "name": "stdout",
          "text": [
            "tuple with index: tup1[0]=10\n",
            "tuple with index: tup1[1]=20\n",
            "tuple with index: tup1[2]=30\n",
            "tuple with index: tup1[3]=40\n",
            "tuple with index: tup1[4]=50\n",
            "tuple with index: tup1[5]=60\n",
            "***SLICING***\n",
            "('1', '2', '3', '4', '5')\n",
            "('3', '4', '5', '6', '7')\n",
            "('1', '2', '3', '4', '5', '6', '7')\n",
            "('1', '3', '5')\n",
            "Negative Indexing:\n",
            "7\n",
            "('1', '2', '3', '4', '5', '6')\n",
            "('3', '4', '5')\n",
            "('6', '7')\n",
            "Concatenation: (10, 20, 30, 40, 50, 60, '1', '2', '3', '4', '5', '6', '7')\n",
            "Length: 6\n",
            "Maximum: 7\n",
            "Minimum: 10\n"
          ]
        }
      ]
    },
    {
      "cell_type": "code",
      "source": [
        "import sys\n",
        "def cmp(tup1,tup2): \n",
        "    return tup1==tup2\n",
        "tup1 = (10,20,30,40,50,60)  #('1', '2', '3', '4', '5', '6', '7')\n",
        "tup2 = ('1', '2', '3', '4', '5', '6', '7')\n",
        "print(\"Comparison:\", cmp(tup1, tup2))\n",
        "\n",
        "tup1 = (10,20,30,40,50,60)  \n",
        "tup2 = ('1', '2', '3', '4', '5', '6', '7')\n",
        "print(\"Comparison:\", tup1 == tup2)\n",
        "print(\"Size of tup1: \" + str(tup1.__sizeof__()) + \"bytes\")\n",
        "print(\"Size of tup2: \" + str(sys.getsizeof(tup2)) + \"bytes\")"
      ],
      "metadata": {
        "colab": {
          "base_uri": "https://localhost:8080/"
        },
        "id": "x96B-9dhBPoG",
        "outputId": "5f8b4360-d5f1-420b-af8a-3a6b1135d5cf"
      },
      "execution_count": 89,
      "outputs": [
        {
          "output_type": "stream",
          "name": "stdout",
          "text": [
            "Comparison: False\n",
            "Comparison: False\n",
            "Size of tup1: 72bytes\n",
            "Size of tup2: 96bytes\n"
          ]
        }
      ]
    },
    {
      "cell_type": "code",
      "source": [
        "Langtuple = (1, \"C#\", 3.4,'C++',False,True)\n",
        "  \n",
        "print( Langtuple[::5])\n",
        "print( Langtuple[::2])\n",
        "print( Langtuple[:-3])"
      ],
      "metadata": {
        "colab": {
          "base_uri": "https://localhost:8080/"
        },
        "id": "OSubeN6PlB2g",
        "outputId": "a5d07475-8b73-4587-9520-e2048f8db64e"
      },
      "execution_count": 92,
      "outputs": [
        {
          "output_type": "stream",
          "name": "stdout",
          "text": [
            "(1, True)\n",
            "(1, 3.4, False)\n",
            "(1, 'C#', 3.4)\n"
          ]
        }
      ]
    },
    {
      "cell_type": "code",
      "source": [
        "listofTuples = [(\"C#\" , 2), (\"JS\" , 3), (\"C#\" , 2),(\"GO\" , 23),(\"Java\" , 77)]\n",
        " \n",
        "dictiwithlistof_tuples = dict(listofTuples)\n",
        "print(dictiwithlistof_tuples)"
      ],
      "metadata": {
        "id": "0FEKzj7_lcH0",
        "colab": {
          "base_uri": "https://localhost:8080/"
        },
        "outputId": "753c1890-0347-4c7f-fef3-04d5afbff4f3"
      },
      "execution_count": 93,
      "outputs": [
        {
          "output_type": "stream",
          "name": "stdout",
          "text": [
            "{'C#': 2, 'JS': 3, 'GO': 23, 'Java': 77}\n"
          ]
        }
      ]
    }
  ]
}