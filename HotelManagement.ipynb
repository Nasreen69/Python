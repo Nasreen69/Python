{
  "nbformat": 4,
  "nbformat_minor": 0,
  "metadata": {
    "colab": {
      "provenance": [],
      "collapsed_sections": [
        "EU3T7KD9emIm",
        "Yxt4mqexQMbO",
        "pWSxPzSJQfae",
        "m3becKSTJfUB",
        "Er6i6rTboo5y",
        "LgAw1H2AWwAE",
        "28Ro4jTVQ_Ju"
      ],
      "include_colab_link": true
    },
    "kernelspec": {
      "display_name": "Python 3",
      "name": "python3"
    }
  },
  "cells": [
    {
      "cell_type": "markdown",
      "metadata": {
        "id": "view-in-github",
        "colab_type": "text"
      },
      "source": [
        "<a href=\"https://colab.research.google.com/github/Nasreen69/Python/blob/main/HotelManagement.ipynb\" target=\"_parent\"><img src=\"https://colab.research.google.com/assets/colab-badge.svg\" alt=\"Open In Colab\"/></a>"
      ]
    },
    {
      "cell_type": "markdown",
      "metadata": {
        "id": "EoE6hf_QhspK"
      },
      "source": [
        "# ***Hotel Management System using Python***\n",
        "\n",
        "\n"
      ]
    },
    {
      "cell_type": "markdown",
      "metadata": {
        "id": "zci04WtcSr0a"
      },
      "source": [
        "##***Scenario***: *Hotel Managment System for Hotel* ***Manjil***.\n",
        "\n",
        " *Hotel manjil is an upscale hotel brand that delivers four different categories of the room each type having a maximum of five rooms of accommodation limit. In this hotel, the major issues mainly concerned are the synchronization, management of room bookings, providing appropriate information to their customers, record stabilization, room service tracking, restaurant management, and overall bill generation according to services taken by the customer.*"
      ]
    },
    {
      "cell_type": "markdown",
      "metadata": {
        "id": "2cR5lhUmSsIC"
      },
      "source": [
        "**Problem Statement:** Write a Python code to build a Hotel Management System which could perform the following operations like - Room Booking, Provide you with Hotel Rooms Info, Room Service, Billing, and Record-Keeping.\n",
        "\n",
        "**Topics Covered:**\n",
        "- Function\n",
        "- Loops\n",
        "- DateTime\n",
        "- Conditional Statement\n",
        "- Data Types\n",
        "  - String\n",
        "  - List\n",
        "  - Dictionary"
      ]
    },
    {
      "cell_type": "markdown",
      "metadata": {
        "id": "EU3T7KD9emIm"
      },
      "source": [
        "####Functions Used\n",
        "\n",
        "![](https://imgur.com/a/Yh2Bav5)\n",
        "\n",
        "- Booking(): Book room at hotel\n",
        "- Room_Service(): Room service for people staying at hotel\n",
        "- Payment(): Shows total bill of the customer \n",
        "-Record(): Shows all the booking records in the hotel \n",
        "-Rooms_Info(): Shows information of all the categories of room\n",
        "-Restuarant_menu(): Shows food menu\n",
        "-Pay_For_Food(): Generate bill for food ordered\n",
        "-Home(): Menu Driven program to run all the functions "
      ]
    },
    {
      "cell_type": "markdown",
      "metadata": {
        "id": "eUpXusH0GmHV"
      },
      "source": [
        "#### <u>***Declaring Global List***</u>"
      ]
    },
    {
      "cell_type": "code",
      "metadata": {
        "id": "Cu4nXBtCFLtX"
      },
      "source": [
        "#Import Libraries\n",
        "from datetime import datetime\n",
        "import random\n",
        "import re "
      ],
      "execution_count": null,
      "outputs": []
    },
    {
      "cell_type": "code",
      "source": [
        "#A Dictionary of Booked Room Numbers for Categories 1,2,3,4 \n",
        "room_no={1:[],2:[],3:[],4:[]}\n",
        "#Room Price for each room\n",
        "room_price=[]\n",
        "# Bill Amount Dictionary with Customer-Id as Key\n",
        "billamounts={}\n",
        "#Dictionary Contains records of all booking details for every customer-id\n",
        "records={}"
      ],
      "metadata": {
        "id": "oTHrmhADDy7u"
      },
      "execution_count": null,
      "outputs": []
    },
    {
      "cell_type": "markdown",
      "metadata": {
        "id": "odDiOC3Vc8wC"
      },
      "source": [
        "#### <u> ***Booking Function*** </u>\n",
        "\n",
        "***Asks for check-in time, check-out time, shows availability and books room***\n",
        "\n",
        "- *`validates date input with datetime and ensures that checkin date isn't after checkout date`*\n",
        "-*`Uses RegEx to validate and ensure that name and phone number are entered in correct format`*\n",
        "-*`Randomly generates a customer id and allocates a room number`*\n",
        "-*`Creates a record once a booking is made`*"
      ]
    },
    {
      "cell_type": "code",
      "metadata": {
        "id": "Z5IAyzbjj6bb"
      },
      "source": [
        "def Booking():\n",
        "       \n",
        "    while True:\n",
        "      \n",
        "      Name = input(\"Enter your Name: \")\n",
        "      Phone_No = input(\"Enter your Phone Number (XXXXXXXXXX):\")\n",
        "\n",
        "      if not bool(re.match('[a-zA-Z\\s]+$', Name)):\n",
        "          return print(\"Incorrect format for Name\")\n",
        "\n",
        "      if not bool(re.match('^[6-9]{1}[0-9]{9}$', Phone_No)):\n",
        "          return print(\"Incorrect format for Phone Number\") \n",
        "\n",
        "      ci = input(\"check in : \\n  Enter the date (dd/mm/yyyy): \")\n",
        "      co = input(\"check out : \\n Enter the date (dd/mm/yyyy): \")\n",
        "\n",
        "      ci_1 = datetime.strptime(ci, '%d/%m/%Y')\n",
        "      co_1 = datetime.strptime(co, '%d/%m/%Y')\n",
        "\n",
        "      print(ci_1,co_1)\n",
        "\n",
        "      try:\n",
        "          if co > ci:\n",
        "            print(\"SELECT ROOM TYPE\")\n",
        "\n",
        "          else:\n",
        "            print(\"Check-out date must be after check-in date.\")\n",
        "      except ValueError:\n",
        "            print(\"Incorrect Date format. Re-enter values in this format (yyyy-mm-d)\")\n",
        "\n",
        "    \n",
        "      print(\" 1. Standard Non-AC \\t\\t3500\") \n",
        "      print(\" 2. Standard AC \\t\\t4000\") \n",
        "      print(\" 3. 3-Bed Non-AC\\t\\t4500\") \n",
        "      print(\" 4. 3-Bed AC\\t\\t5000\") \n",
        "      type = int(input(\"Enter Room Type: \"))\n",
        "\n",
        "      prices={1:3500,2:4000,3:4500,4:5000}\n",
        "\n",
        "      address=input(\"Address: \")\n",
        "      \n",
        "      available_rooms = [101, 102, 103, 104, 105, 201, 202, 203, 204, 205, 301, 302, 303, 304, 305, 401, 402, 403, 404, 405]\n",
        "      \n",
        "      room_number = random.choice(available_rooms)\n",
        "      available_rooms.remove(room_number)\n",
        "      room_category = int(str(room_number)[0])\n",
        "      room_no[room_category].append(room_number)\n",
        "\n",
        "      def customer_id():\n",
        "          return random.randint(100000, 999999) \n",
        "\n",
        "      customer_id = customer_id()\n",
        "        \n",
        "      bill_amount = prices[type]*(co_1-ci_1).days  \n",
        "      billamounts[customer_id] = bill_amount\n",
        "      \n",
        "      print(f\"Customer ID: {customer_id}\")\n",
        "      print(f\"Room Number: {room_number}\")\n",
        "      print(f\"Room Category: {room_category}\")\n",
        "      print(\"Room Booked Successfully\")\n",
        "\n",
        "      if co_1 > ci_1:\n",
        "        for key, val in room_no.items():\n",
        "          for i in val:     \n",
        "             if i == room_category:             \n",
        "               room_no[room_category].remove(room_number)              \n",
        "               available_rooms.append(room_number)\n",
        "        \n",
        "      print(f\"Room {room_number} is now available.\")\n",
        "      print(\"{} : {}\".format(key, i))     \n",
        "      \n",
        "      records[customer_id]  = {\n",
        "                              'Name': Name,\n",
        "                              'Room no': room_number,\n",
        "                              'Customer ID': customer_id, \n",
        "                              'Phone No': Phone_No,\n",
        "                              'Bill Amount': bill_amount }\n",
        "      \n",
        "      break \n",
        "      Booking()"
      ],
      "execution_count": null,
      "outputs": []
    },
    {
      "cell_type": "code",
      "source": [
        "print(billamounts)"
      ],
      "metadata": {
        "id": "bKg34OQ3c-Zi",
        "outputId": "aeb4268f-4404-4324-8dc1-de42c26465a8",
        "colab": {
          "base_uri": "https://localhost:8080/"
        }
      },
      "execution_count": null,
      "outputs": [
        {
          "output_type": "stream",
          "name": "stdout",
          "text": [
            "{980400: 4500}\n"
          ]
        }
      ]
    },
    {
      "cell_type": "markdown",
      "metadata": {
        "id": "eN_aYIq1PsSQ"
      },
      "source": [
        "#### <u>***Room Service***</u>\n",
        "***Asks for services requested by customers staying in Hotel***\n",
        "\n",
        "- *`Adds the additional amount of services to total bill `*"
      ]
    },
    {
      "cell_type": "code",
      "metadata": {
        "id": "r4chGi4eJWWO"
      },
      "source": [
        "def Room_Service():\n",
        "    \n",
        "    while True:\n",
        "\n",
        "      amount = 0\n",
        "      customer_id = input(\"Enter customer ID: \\n\")\n",
        "      print(\"SELECT ROOM SERVICE\") \n",
        "      print(\" 1. Food Service\") \n",
        "      print(\" 2. Floor cleaning\") \n",
        "      print(\" 3. Laundry and dry cleaning\") \n",
        "      print(\" 4. House keeping\") \n",
        "      print(\" 5. Maintanance service\")\n",
        "      print(\" 6. Business service\")\n",
        "      print(\" 7. Concierge Services\")\n",
        "      print(\" 0. Exit \")\n",
        "      \n",
        "      select = int(input(\"Enter Room service: \"))      \n",
        "\n",
        "      if select == 1:\n",
        "        print(\"Food Service Requested\")\n",
        "        Restuarant_menu()\n",
        "        amount += Pay_for_food()\n",
        "        \n",
        "      elif select == 2:  \n",
        "        print(\"Floor cleaning Requested\")\n",
        "      elif select == 3:  \n",
        "        print(\"Laundry and dry cleaning Requested\")\n",
        "      elif select == 4:\n",
        "        print(\"House keeping Requested\")  \n",
        "      elif select == 5:\n",
        "        print(\"Maintanance service Requested\")  \n",
        "      elif select == 6:\n",
        "        print(\"Business service Requested\")  \n",
        "      elif select == 7:\n",
        "        print(\"Concierge Services Requested\")        \n",
        "      else:\n",
        "        select == 0\n",
        "        print(\"Exit\")\n",
        "      break\n",
        "      servicecount = int(input(\"Enter No of services: \"))\n",
        "      other_amount=int(input(\"Enter amount if any:\"))\n",
        "      amount += servicecount*20+other_amount \n",
        "\n",
        "       \n",
        "        #print(type(amount))     \n",
        "      if customer_id not in billamounts:\n",
        "          billamounts[customer_id] = 0\n",
        "\n",
        "      billamounts[customer_id] += amount\n",
        "\n",
        "        #input(\"Press E to exit: \")\n",
        "      #return billamounts[customer_id]\n",
        "       \n",
        "      \n",
        "      Room_Service()    "
      ],
      "execution_count": null,
      "outputs": []
    },
    {
      "cell_type": "markdown",
      "metadata": {
        "id": "Yxt4mqexQMbO"
      },
      "source": [
        "#### <u>***Payment***</u>\n",
        "*Generates total bill of a customer and displays all the customer information*"
      ]
    },
    {
      "cell_type": "code",
      "metadata": {
        "id": "FNiDOiCoJWjr"
      },
      "source": [
        "def Payment():\n",
        "   while True: \n",
        "    customer_id = int(input(\"Enter CID->\"))\n",
        "    #customer_details = records.get(customer_id)\n",
        "    \n",
        "    print(\"Customer Details\", records[customer_id])  \n",
        "\n",
        "    print(\"The Total BIll is\", records[customer_id])\n",
        "    \n",
        "    break    \n",
        "    Payment()  "
      ],
      "execution_count": null,
      "outputs": []
    },
    {
      "cell_type": "markdown",
      "metadata": {
        "id": "pWSxPzSJQfae"
      },
      "source": [
        "#### <u>***Records***</u>\n",
        "***Shows all the booking related records in the hotel***"
      ]
    },
    {
      "cell_type": "code",
      "metadata": {
        "id": "33GlcGmS1YlN"
      },
      "source": [
        "def Record():\n",
        "   while True:         \n",
        "        print(records)\n",
        "        break\n",
        "Record()    "
      ],
      "execution_count": null,
      "outputs": []
    },
    {
      "cell_type": "markdown",
      "metadata": {
        "id": "m3becKSTJfUB"
      },
      "source": [
        "### <u> ***Room information function*** </u>\n",
        "*  *`Enables the customers to view the types of rooms available in the hotel.`*\n",
        "*  *`Allow the customer to check the availablity of given types of rooms`*"
      ]
    },
    {
      "cell_type": "code",
      "metadata": {
        "id": "s95VV9uiOYux"
      },
      "source": [
        "def Rooms_Info():  \n",
        "  while True:  \n",
        "    Name = input(\"Enter your Name: \")\n",
        "    \n",
        "    x = int(input(\"\"\"Please Enter your choice : \n",
        "              1)Single Non-AC Room(1 Single Bed,Small almirah,1 Tea Table,Telephone)\\n\n",
        "              2)Double-Bed Non-AC Room(1 Double Bed,Television,Large almirah,2 Tea Table,Telephone)\\n\n",
        "              3)Triple Bed Non-AC Room(3 Single Bed,Television,Large Almirah,3 Tea Table,Telephone,Balcony)\\n\n",
        "              4)Double-Bed AC Room(2 single Bed,Television,Large Almirah,Air-Conditioner,Balcony,2 Tea Table,Telephone)\\n \"\"\"))\n",
        "\n",
        "    if (x==1) and (not room_no[1]):\n",
        "      print (\"Available\")\n",
        "      print (f\"Single-Bed Non-AC Room Booked by {Name}\")\n",
        "      room_price=2000\n",
        "      print(\"Your room price per Day=\",room_price,\"\\n\")\n",
        "                \n",
        "    elif (x==2) and (not room_no[2]):\n",
        "      print (\"Available\")\n",
        "      print (f\"Single-Bed Non-AC Room Booked by {Name}\")\n",
        "      room_price=3000\n",
        "      print(\"Your room price per Day=\",room_price,\"\\n\")\n",
        "\n",
        "    elif (x==3) and (not room_no[3]):\n",
        "      print (\"Available\")\n",
        "      print (f\"Single-Bed Non-AC Room Booked by {Name}\")\n",
        "      room_price=4000\n",
        "      print(\"Your room price per Day=\",room_price,\"\\n\")  \n",
        "\n",
        "    elif (x==4) and (not room_no[4]):\n",
        "      print (\"Available\")\n",
        "      print (f\"Single-Bed Non-AC Room Booked by {Name}\")\n",
        "      room_price=5000\n",
        "      print(\"Your room price per Day=\",room_price,\"\\n\")  \n",
        "\n",
        "    else:\n",
        "            print(\"Unavailable\")  \n",
        "    break  \n",
        "    Rooms_Info()  "
      ],
      "execution_count": null,
      "outputs": []
    },
    {
      "cell_type": "markdown",
      "metadata": {
        "id": "Er6i6rTboo5y"
      },
      "source": [
        "### <u>***Restaurant menu function***</u>\n",
        "***Display the menu of food items available with rates in the restuarant.***"
      ]
    },
    {
      "cell_type": "code",
      "metadata": {
        "id": "dM5EBU0dJf_s"
      },
      "source": [
        "def Restuarant_menu():\n",
        "    #Your Code Here\n",
        "  while True: \n",
        "    print(\"****Restuarant Menu****\\n\".center(25))\n",
        "\n",
        "    print(\"    <---BEVERAGE--->\\n\")\n",
        "    print(\"1)Milk/Tea/Coffee ....................16.00\\n\")\n",
        "    print(\"2)Milk Shakes .................40.00\\n\")\n",
        "    print(\"3)Water .............10.00\\n\")\n",
        "    print(\"4)Smoothies ..................30.00\\n\")\n",
        "\n",
        "    print(\"    <---Breakfast--->\\n\")\n",
        "    print(\"5)Chapathi .................40.00\\n\")\n",
        "    print(\"6)Idli .................30.00\\n\")\n",
        "    print(\"7)Dosa ..............30.00\\n\")\n",
        "    print(\"8)Sandwich ...................30.00\\n\")\n",
        "    print(\"9)Millet vada ...................60.00\\n\")\n",
        "\n",
        "    print(\"    <---Lunch--->\\n\")\n",
        "    print(\"10)Zeera Rice ............110.00\\n\")\n",
        "    print(\"11)Veg & Curd Rice ............150.00\\n\")\n",
        "    print(\"12)Biriyani ............200.00\\n\")\n",
        "\n",
        "    print(\"    <---Dinner--->\\n\")\n",
        "    print(\"13)Rumali Roti ............200.00\\n\")\n",
        "    print(\"14)Veg Biriyani ............300.00\\n\")\n",
        "\n",
        "    print(\"    <---Icecream--->\\n\")\n",
        "    print(\"15)Fruit & Nut Icecream .......60.00\\n\")\n",
        "    print(\"16)Desi Kulfi ......40.00\\n\")\n",
        "    \n",
        "    break\n",
        "    Restuarant_menu()"
      ],
      "execution_count": null,
      "outputs": []
    },
    {
      "cell_type": "markdown",
      "metadata": {
        "id": "LgAw1H2AWwAE"
      },
      "source": [
        "### <u>***Pay for food function***</u>\n",
        "\n",
        "*  *`Stores the restuarant menu index wise in the dictioanary.`*\n",
        "*  *`Print the keys of dictionary in varaible.`*\n",
        "*  *`Request customer to lodge the food order with the restuarant.`*\n",
        "*  *`Display total amount of bill of the ordered food  by the customer.`*"
      ]
    },
    {
      "cell_type": "code",
      "metadata": {
        "id": "ZNx_qSxVbu6w"
      },
      "source": [
        "def Pay_for_food(sum=0):\n",
        "    #Your COde Here\n",
        "  while True: \n",
        "    d = {'1':16, '2':40, '3':10, '4':30, '5':40, '6':30, '7':30, '8':30, '9':60, '10':110, '11':150, '12':200, '13':200, '14':300, '15':60, '16':40 }\n",
        "    sum = 0\n",
        "\n",
        "    Food_Order = input(\"Enter the Food Item No: \")\n",
        "\n",
        "    if Food_Order in d.keys():\n",
        "      sum +=  d[Food_Order]\n",
        "      print(\"Total Bill for ordered food:\", sum)\n",
        "      \n",
        "    else:\n",
        "      input(\"Press E to exit: \")\n",
        "      Food_Order == 'E'  \n",
        "      print(\"Thank you!!! \")    \n",
        "      \n",
        "    return sum  \n",
        "    break\n",
        "    Pay_for_food()"
      ],
      "execution_count": null,
      "outputs": []
    },
    {
      "cell_type": "markdown",
      "metadata": {
        "id": "28Ro4jTVQ_Ju"
      },
      "source": [
        "## <u>***Home Function***</u>\n",
        "- *`A menu driven program to access all the functionalities within the program`*\n",
        "\n",
        "- *`Requests the user to enter choice code and executes the functions accordingly`*\n"
      ]
    },
    {
      "cell_type": "code",
      "metadata": {
        "id": "er9wOhi5JWmf"
      },
      "source": [
        "#Driver Program (HOME)\n",
        "# Home Function \n",
        "def Home():\n",
        "    #YOur Code Here\n",
        "    choice=1\n",
        "    while(choice!=0):\n",
        "        print(\"WELCOME TO HOTEL Bella Casa\".center(127)) #Alligns the Text to Center\n",
        "        print(\"\\t\\t 1 Booking\\n\")  \n",
        "        print(\"\\t\\t 2 Rooms Info\\n\")\n",
        "        print(\"\\t\\t 3 Record\\n\")\n",
        "        print(\"\\t\\t 4 Room Service\\n\")\n",
        "        print(\"\\t\\t 5 Order Food\\n\")\n",
        "        print(\"\\t\\t 6 Pay For Food\\n\")\n",
        "        print(\"\\t\\t 7 Total Bill\\n\") \n",
        "        print(\"\\t\\t 0 Exit\\n\") \n",
        "   \n",
        "        choice=int(input(\"choose your option->\")) \n",
        "        \n",
        "        if choice == 1: \n",
        "            Booking() \n",
        "        \n",
        "        elif choice == 2: \n",
        "            Rooms_Info() \n",
        "\n",
        "        elif choice == 3:  \n",
        "            Record() \n",
        "        \n",
        "        elif choice == 4:  \n",
        "            Room_Service() \n",
        "        \n",
        "        elif choice == 5:  \n",
        "            Restuarant_menu() \n",
        "        \n",
        "        elif choice == 6:  \n",
        "            Pay_for_food() \n",
        "\n",
        "        elif choice == 7: \n",
        "            Payment() \n",
        "        elif  choice==0:\n",
        "         print(\"Exiting the program...\")\n",
        "\n",
        "         break\n",
        "\n",
        "        else:\n",
        "           print(\"Invalid option selected. Please try again.\")\n",
        "\n",
        "         "
      ],
      "execution_count": null,
      "outputs": []
    },
    {
      "cell_type": "markdown",
      "source": [
        "## <u>***Display Details***</u>"
      ],
      "metadata": {
        "id": "-Uvp--_F7_x3"
      }
    },
    {
      "cell_type": "code",
      "metadata": {
        "id": "rWSSNHeFKB54",
        "colab": {
          "base_uri": "https://localhost:8080/"
        },
        "outputId": "eb9b3649-b303-47da-9755-25dce23f4642"
      },
      "source": [
        "#Driver Program (HOME)\n",
        "# Home Function \n",
        "\n",
        "choice=1\n",
        "while(choice!=0):\n",
        "      print(\"WELCOME TO HOTEL Manjil\".center(127)) #Alligns the Text to Center\n",
        "      print(\"\\t\\t 1 Booking\\n\")  \n",
        "      print(\"\\t\\t 2 Rooms Info\\n\")\n",
        "      print(\"\\t\\t 3 Record\\n\")\n",
        "      print(\"\\t\\t 4 Room Service\\n\")\n",
        "      print(\"\\t\\t 5 Order Food\\n\")\n",
        "      print(\"\\t\\t 6 Pay For Food\\n\")\n",
        "      print(\"\\t\\t 7 Total Bill\\n\") \n",
        "      print(\"\\t\\t 0 Exit\\n\") \n",
        "        \n",
        "      choice=int(input(\"choose your option->\")) \n",
        "\n",
        "      if choice == 1: \n",
        "          Booking() \n",
        "        \n",
        "\n",
        "      elif choice == 2: \n",
        "          Rooms_Info() \n",
        "\n",
        "      elif choice == 3:  \n",
        "          Record() \n",
        "\n",
        "      elif choice == 4:  \n",
        "          Room_Service() \n",
        "\n",
        "      elif choice == 5:  \n",
        "          Restuarant_menu() \n",
        "\n",
        "      elif choice == 6:  \n",
        "          Pay_for_food() \n",
        "\n",
        "      elif choice == 7: \n",
        "          Payment() \n",
        "      elif  choice==0:\n",
        "         print(\"Exiting the program...\")\n",
        "\n",
        "         break\n",
        "\n",
        "      else:\n",
        "        print(\"Invalid option selected. Please try again.\")"
      ],
      "execution_count": null,
      "outputs": [
        {
          "output_type": "stream",
          "name": "stdout",
          "text": [
            "                                                    WELCOME TO HOTEL Manjil                                                    \n",
            "\t\t 1 Booking\n",
            "\n",
            "\t\t 2 Rooms Info\n",
            "\n",
            "\t\t 3 Record\n",
            "\n",
            "\t\t 4 Room Service\n",
            "\n",
            "\t\t 5 Order Food\n",
            "\n",
            "\t\t 6 Pay For Food\n",
            "\n",
            "\t\t 7 Total Bill\n",
            "\n",
            "\t\t 0 Exit\n",
            "\n",
            "choose your option->1\n",
            "Enter your Name: Ashu\n",
            "Enter your Phone Number (XXXXXXXXXX):9116438827\n",
            "check in : \n",
            "  Enter the date (dd/mm/yyyy): 30/03/2023\n",
            "check out : \n",
            " Enter the date (dd/mm/yyyy): 31/03/2023\n",
            "2023-03-30 00:00:00 2023-03-31 00:00:00\n",
            "SELECT ROOM TYPE\n",
            " 1. Standard Non-AC \t\t3500\n",
            " 2. Standard AC \t\t4000\n",
            " 3. 3-Bed Non-AC\t\t4500\n",
            " 4. 3-Bed AC\t\t5000\n",
            "Enter Room Type: 3\n",
            "Address: Delhi\n",
            "Customer ID: 980400\n",
            "Room Number: 105\n",
            "Room Category: 1\n",
            "Room Booked Successfully\n",
            "Room 105 is now available.\n",
            "4 : 203\n",
            "                                                    WELCOME TO HOTEL Manjil                                                    \n",
            "\t\t 1 Booking\n",
            "\n",
            "\t\t 2 Rooms Info\n",
            "\n",
            "\t\t 3 Record\n",
            "\n",
            "\t\t 4 Room Service\n",
            "\n",
            "\t\t 5 Order Food\n",
            "\n",
            "\t\t 6 Pay For Food\n",
            "\n",
            "\t\t 7 Total Bill\n",
            "\n",
            "\t\t 0 Exit\n",
            "\n",
            "choose your option->0\n",
            "Exiting the program...\n"
          ]
        }
      ]
    }
  ]
}